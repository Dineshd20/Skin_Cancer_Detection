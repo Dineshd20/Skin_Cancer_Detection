{
  "cells": [
    {
      "cell_type": "code",
      "execution_count": null,
      "id": "489ab607",
      "metadata": {
        "id": "489ab607",
        "outputId": "24e54dc7-40a7-42eb-e301-4d0d25951552"
      },
      "outputs": [
        {
          "name": "stdout",
          "output_type": "stream",
          "text": [
            "Requirement already satisfied: opencv-python in c:\\programdata\\anaconda3\\lib\\site-packages (4.6.0.66)\n",
            "Requirement already satisfied: numpy>=1.17.3 in c:\\programdata\\anaconda3\\lib\\site-packages (from opencv-python) (1.21.5)\n"
          ]
        }
      ],
      "source": [
        "!pip install opencv-python"
      ]
    },
    {
      "cell_type": "code",
      "execution_count": null,
      "id": "d214cfc1",
      "metadata": {
        "id": "d214cfc1",
        "outputId": "e221c2bf-6ecc-4de7-ad80-d7ea36e86b9f"
      },
      "outputs": [
        {
          "name": "stdout",
          "output_type": "stream",
          "text": [
            "Requirement already satisfied: matplotlib in c:\\programdata\\anaconda3\\lib\\site-packages (3.5.1)\n",
            "Requirement already satisfied: numpy>=1.17 in c:\\programdata\\anaconda3\\lib\\site-packages (from matplotlib) (1.21.5)\n",
            "Requirement already satisfied: kiwisolver>=1.0.1 in c:\\programdata\\anaconda3\\lib\\site-packages (from matplotlib) (1.3.2)\n",
            "Requirement already satisfied: pyparsing>=2.2.1 in c:\\programdata\\anaconda3\\lib\\site-packages (from matplotlib) (3.0.4)\n",
            "Requirement already satisfied: pillow>=6.2.0 in c:\\programdata\\anaconda3\\lib\\site-packages (from matplotlib) (9.0.1)\n",
            "Requirement already satisfied: cycler>=0.10 in c:\\programdata\\anaconda3\\lib\\site-packages (from matplotlib) (0.11.0)\n",
            "Requirement already satisfied: fonttools>=4.22.0 in c:\\programdata\\anaconda3\\lib\\site-packages (from matplotlib) (4.25.0)\n",
            "Requirement already satisfied: python-dateutil>=2.7 in c:\\programdata\\anaconda3\\lib\\site-packages (from matplotlib) (2.8.2)\n",
            "Requirement already satisfied: packaging>=20.0 in c:\\programdata\\anaconda3\\lib\\site-packages (from matplotlib) (21.3)\n",
            "Requirement already satisfied: six>=1.5 in c:\\programdata\\anaconda3\\lib\\site-packages (from python-dateutil>=2.7->matplotlib) (1.16.0)\n"
          ]
        }
      ],
      "source": [
        "\n",
        "!pip install matplotlib\n"
      ]
    },
    {
      "cell_type": "code",
      "execution_count": null,
      "id": "f7964e4e",
      "metadata": {
        "id": "f7964e4e",
        "outputId": "8d7ff3eb-c3cb-4b0a-bfd9-c2036f737772"
      },
      "outputs": [
        {
          "name": "stdout",
          "output_type": "stream",
          "text": [
            "Requirement already satisfied: tensorflow in c:\\programdata\\anaconda3\\lib\\site-packages (2.9.1)\n",
            "Requirement already satisfied: keras-preprocessing>=1.1.1 in c:\\programdata\\anaconda3\\lib\\site-packages (from tensorflow) (1.1.2)\n",
            "Requirement already satisfied: h5py>=2.9.0 in c:\\programdata\\anaconda3\\lib\\site-packages (from tensorflow) (3.6.0)\n",
            "Requirement already satisfied: astunparse>=1.6.0 in c:\\programdata\\anaconda3\\lib\\site-packages (from tensorflow) (1.6.3)\n",
            "Requirement already satisfied: gast<=0.4.0,>=0.2.1 in c:\\programdata\\anaconda3\\lib\\site-packages (from tensorflow) (0.4.0)\n",
            "Requirement already satisfied: wrapt>=1.11.0 in c:\\programdata\\anaconda3\\lib\\site-packages (from tensorflow) (1.12.1)\n",
            "Requirement already satisfied: absl-py>=1.0.0 in c:\\programdata\\anaconda3\\lib\\site-packages (from tensorflow) (1.2.0)\n",
            "Requirement already satisfied: setuptools in c:\\programdata\\anaconda3\\lib\\site-packages (from tensorflow) (61.2.0)\n",
            "Requirement already satisfied: keras<2.10.0,>=2.9.0rc0 in c:\\programdata\\anaconda3\\lib\\site-packages (from tensorflow) (2.9.0)\n",
            "Requirement already satisfied: numpy>=1.20 in c:\\programdata\\anaconda3\\lib\\site-packages (from tensorflow) (1.21.5)\n",
            "Requirement already satisfied: libclang>=13.0.0 in c:\\programdata\\anaconda3\\lib\\site-packages (from tensorflow) (14.0.1)\n",
            "Requirement already satisfied: termcolor>=1.1.0 in c:\\programdata\\anaconda3\\lib\\site-packages (from tensorflow) (1.1.0)\n",
            "Requirement already satisfied: google-pasta>=0.1.1 in c:\\programdata\\anaconda3\\lib\\site-packages (from tensorflow) (0.2.0)\n",
            "Requirement already satisfied: tensorboard<2.10,>=2.9 in c:\\programdata\\anaconda3\\lib\\site-packages (from tensorflow) (2.9.1)\n",
            "Requirement already satisfied: packaging in c:\\programdata\\anaconda3\\lib\\site-packages (from tensorflow) (21.3)\n",
            "Requirement already satisfied: typing-extensions>=3.6.6 in c:\\programdata\\anaconda3\\lib\\site-packages (from tensorflow) (4.1.1)\n",
            "Requirement already satisfied: tensorflow-estimator<2.10.0,>=2.9.0rc0 in c:\\programdata\\anaconda3\\lib\\site-packages (from tensorflow) (2.9.0)\n",
            "Requirement already satisfied: tensorflow-io-gcs-filesystem>=0.23.1 in c:\\programdata\\anaconda3\\lib\\site-packages (from tensorflow) (0.26.0)\n",
            "Requirement already satisfied: six>=1.12.0 in c:\\programdata\\anaconda3\\lib\\site-packages (from tensorflow) (1.16.0)\n",
            "Requirement already satisfied: grpcio<2.0,>=1.24.3 in c:\\programdata\\anaconda3\\lib\\site-packages (from tensorflow) (1.42.0)\n",
            "Requirement already satisfied: flatbuffers<2,>=1.12 in c:\\programdata\\anaconda3\\lib\\site-packages (from tensorflow) (1.12)\n",
            "Requirement already satisfied: opt-einsum>=2.3.2 in c:\\programdata\\anaconda3\\lib\\site-packages (from tensorflow) (3.3.0)\n",
            "Requirement already satisfied: protobuf<3.20,>=3.9.2 in c:\\programdata\\anaconda3\\lib\\site-packages (from tensorflow) (3.19.1)\n",
            "Requirement already satisfied: wheel<1.0,>=0.23.0 in c:\\programdata\\anaconda3\\lib\\site-packages (from astunparse>=1.6.0->tensorflow) (0.37.1)\n",
            "Requirement already satisfied: google-auth<3,>=1.6.3 in c:\\programdata\\anaconda3\\lib\\site-packages (from tensorboard<2.10,>=2.9->tensorflow) (1.33.0)\n",
            "Requirement already satisfied: requests<3,>=2.21.0 in c:\\programdata\\anaconda3\\lib\\site-packages (from tensorboard<2.10,>=2.9->tensorflow) (2.27.1)\n",
            "Requirement already satisfied: tensorboard-plugin-wit>=1.6.0 in c:\\programdata\\anaconda3\\lib\\site-packages (from tensorboard<2.10,>=2.9->tensorflow) (1.8.1)\n",
            "Requirement already satisfied: google-auth-oauthlib<0.5,>=0.4.1 in c:\\programdata\\anaconda3\\lib\\site-packages (from tensorboard<2.10,>=2.9->tensorflow) (0.4.6)\n",
            "Requirement already satisfied: werkzeug>=1.0.1 in c:\\programdata\\anaconda3\\lib\\site-packages (from tensorboard<2.10,>=2.9->tensorflow) (2.0.3)\n",
            "Requirement already satisfied: tensorboard-data-server<0.7.0,>=0.6.0 in c:\\programdata\\anaconda3\\lib\\site-packages (from tensorboard<2.10,>=2.9->tensorflow) (0.6.1)\n",
            "Requirement already satisfied: markdown>=2.6.8 in c:\\programdata\\anaconda3\\lib\\site-packages (from tensorboard<2.10,>=2.9->tensorflow) (3.3.4)\n",
            "Requirement already satisfied: cachetools<5.0,>=2.0.0 in c:\\programdata\\anaconda3\\lib\\site-packages (from google-auth<3,>=1.6.3->tensorboard<2.10,>=2.9->tensorflow) (4.2.2)\n",
            "Requirement already satisfied: pyasn1-modules>=0.2.1 in c:\\programdata\\anaconda3\\lib\\site-packages (from google-auth<3,>=1.6.3->tensorboard<2.10,>=2.9->tensorflow) (0.2.8)\n",
            "Requirement already satisfied: rsa<5,>=3.1.4 in c:\\programdata\\anaconda3\\lib\\site-packages (from google-auth<3,>=1.6.3->tensorboard<2.10,>=2.9->tensorflow) (4.7.2)\n",
            "Requirement already satisfied: requests-oauthlib>=0.7.0 in c:\\programdata\\anaconda3\\lib\\site-packages (from google-auth-oauthlib<0.5,>=0.4.1->tensorboard<2.10,>=2.9->tensorflow) (1.3.1)\n",
            "Requirement already satisfied: pyasn1<0.5.0,>=0.4.6 in c:\\programdata\\anaconda3\\lib\\site-packages (from pyasn1-modules>=0.2.1->google-auth<3,>=1.6.3->tensorboard<2.10,>=2.9->tensorflow) (0.4.8)\n",
            "Requirement already satisfied: idna<4,>=2.5 in c:\\programdata\\anaconda3\\lib\\site-packages (from requests<3,>=2.21.0->tensorboard<2.10,>=2.9->tensorflow) (3.3)\n",
            "Requirement already satisfied: charset-normalizer~=2.0.0 in c:\\programdata\\anaconda3\\lib\\site-packages (from requests<3,>=2.21.0->tensorboard<2.10,>=2.9->tensorflow) (2.0.4)\n",
            "Requirement already satisfied: urllib3<1.27,>=1.21.1 in c:\\programdata\\anaconda3\\lib\\site-packages (from requests<3,>=2.21.0->tensorboard<2.10,>=2.9->tensorflow) (1.26.9)\n",
            "Requirement already satisfied: certifi>=2017.4.17 in c:\\programdata\\anaconda3\\lib\\site-packages (from requests<3,>=2.21.0->tensorboard<2.10,>=2.9->tensorflow) (2021.10.8)\n",
            "Requirement already satisfied: oauthlib>=3.0.0 in c:\\programdata\\anaconda3\\lib\\site-packages (from requests-oauthlib>=0.7.0->google-auth-oauthlib<0.5,>=0.4.1->tensorboard<2.10,>=2.9->tensorflow) (3.2.0)\n",
            "Requirement already satisfied: pyparsing!=3.0.5,>=2.0.2 in c:\\programdata\\anaconda3\\lib\\site-packages (from packaging->tensorflow) (3.0.4)\n"
          ]
        }
      ],
      "source": [
        "!pip install tensorflow\n"
      ]
    },
    {
      "cell_type": "code",
      "execution_count": null,
      "id": "1cee3f61",
      "metadata": {
        "id": "1cee3f61"
      },
      "outputs": [],
      "source": [
        "!pip install -q tensorflow tensorflow-datasets\n",
        "import matplotlib.pyplot as plt\n",
        "import numpy as np\n",
        "import tensorflow as tf\n",
        "from tensorflow import keras"
      ]
    },
    {
      "cell_type": "code",
      "execution_count": null,
      "id": "a0c1967d",
      "metadata": {
        "id": "a0c1967d",
        "outputId": "2ed45ec8-6d02-471c-8266-8b7b2d55b7c5"
      },
      "outputs": [
        {
          "ename": "NameError",
          "evalue": "name 'pwd' is not defined",
          "output_type": "error",
          "traceback": [
            "\u001b[1;31m---------------------------------------------------------------------------\u001b[0m",
            "\u001b[1;31mNameError\u001b[0m                                 Traceback (most recent call last)",
            "Input \u001b[1;32mIn [63]\u001b[0m, in \u001b[0;36m<cell line: 1>\u001b[1;34m()\u001b[0m\n\u001b[1;32m----> 1\u001b[0m \u001b[43mpwd\u001b[49m\n\u001b[0;32m      2\u001b[0m \u001b[38;5;28;01mimport\u001b[39;00m \u001b[38;5;21;01mmatplotlib\u001b[39;00m\u001b[38;5;21;01m.\u001b[39;00m\u001b[38;5;21;01mpyplot\u001b[39;00m \u001b[38;5;28;01mas\u001b[39;00m \u001b[38;5;21;01mplt\u001b[39;00m\n",
            "\u001b[1;31mNameError\u001b[0m: name 'pwd' is not defined"
          ]
        }
      ],
      "source": [
        "\n",
        "import matplotlib.pyplot as plt"
      ]
    },
    {
      "cell_type": "markdown",
      "id": "4b111e56",
      "metadata": {
        "id": "4b111e56"
      },
      "source": [
        "Handling data\n"
      ]
    },
    {
      "cell_type": "code",
      "execution_count": null,
      "id": "3f2d8eeb",
      "metadata": {
        "id": "3f2d8eeb"
      },
      "outputs": [],
      "source": [
        "!pip install pandas"
      ]
    },
    {
      "cell_type": "code",
      "execution_count": null,
      "id": "6384c517",
      "metadata": {
        "id": "6384c517",
        "outputId": "4052a44c-e018-4859-eac0-7182351ea32e"
      },
      "outputs": [
        {
          "data": {
            "text/plain": [
              "'C:\\\\Users\\\\ddz706\\\\Documents\\\\skinCancer'"
            ]
          },
          "execution_count": 3,
          "metadata": {},
          "output_type": "execute_result"
        }
      ],
      "source": [
        "import pandas as pd\n",
        "import os\n",
        "import shutil\n",
        "\n",
        "os.getcwd()"
      ]
    },
    {
      "cell_type": "code",
      "execution_count": null,
      "id": "3fd5ac87",
      "metadata": {
        "id": "3fd5ac87",
        "outputId": "7d808b83-7fba-4a3c-8431-93cd44fdb611"
      },
      "outputs": [
        {
          "name": "stdout",
          "output_type": "stream",
          "text": [
            "nv       6705\n",
            "mel      1113\n",
            "bkl      1099\n",
            "bcc       514\n",
            "akiec     327\n",
            "vasc      142\n",
            "df        115\n",
            "Name: dx, dtype: int64\n",
            "['bkl', 'nv', 'df', 'mel', 'vasc', 'bcc', 'akiec']\n"
          ]
        }
      ],
      "source": [
        "csv = pd.read_csv('HAM10000_metadata.csv')\n",
        "img_D = os.getcwd() + \"/images/\"\n",
        "data_D = os.getcwd() + \"/data/\"\n",
        "label=csv['dx'].unique().tolist()\n",
        "\n",
        "\n",
        "label_images = []\n",
        "for i in label:\n",
        "    os.mkdir(dest_dir + str(i) + \"/\")\n",
        "    sample = csv[csv['dx'] == i]['image_id']\n",
        "    label_images.extend(sample)\n",
        "\n",
        "    for id in label_images:\n",
        "        shutil.copyfile((img_D + \"/\" + id + \".jpg\"), (data_D + id + \"/\" + id + \".jpg\"))\n",
        "\n",
        "    label_images = []"
      ]
    },
    {
      "cell_type": "markdown",
      "id": "84af9382",
      "metadata": {
        "id": "84af9382"
      },
      "source": [
        "Dividing the data into train and test\n"
      ]
    },
    {
      "cell_type": "code",
      "execution_count": null,
      "id": "f16b1451",
      "metadata": {
        "id": "f16b1451",
        "outputId": "cc728e65-8f94-426a-8dd6-adcf82c9c4f7"
      },
      "outputs": [
        {
          "name": "stderr",
          "output_type": "stream",
          "text": [
            "Copying files: 10015 files [01:49, 91.57 files/s]\n"
          ]
        }
      ],
      "source": [
        "pip install split-folders\n",
        "import splitfolders\n",
        "splitfolders.ratio(\"data/\", output=\"datset\",\n",
        "    seed=50, ratio=(.8, .2), group_prefix=None, move=False)\n"
      ]
    },
    {
      "cell_type": "markdown",
      "id": "03cd14a1",
      "metadata": {
        "id": "03cd14a1"
      },
      "source": [
        "uploading data"
      ]
    },
    {
      "cell_type": "code",
      "execution_count": null,
      "id": "4f8c1a34",
      "metadata": {
        "id": "4f8c1a34",
        "outputId": "01bfbc7a-9de3-44de-c2f9-7275bf7d96b8"
      },
      "outputs": [
        {
          "data": {
            "text/plain": [
              "'4.6.0'"
            ]
          },
          "execution_count": 17,
          "metadata": {},
          "output_type": "execute_result"
        }
      ],
      "source": [
        "import cv2\n",
        "cv2.__version__\n"
      ]
    },
    {
      "cell_type": "code",
      "execution_count": null,
      "id": "c300c18f",
      "metadata": {
        "id": "c300c18f"
      },
      "outputs": [],
      "source": [
        "import matplotlib.pyplot as plt\n",
        "from tensorflow.keras.preprocessing.image import ImageDataGenerator\n",
        "import tensorflow as tf"
      ]
    },
    {
      "cell_type": "markdown",
      "id": "2ecb9a62",
      "metadata": {
        "id": "2ecb9a62"
      },
      "source": [
        "flow from directory method"
      ]
    },
    {
      "cell_type": "code",
      "execution_count": null,
      "id": "40f738f4",
      "metadata": {
        "id": "40f738f4",
        "outputId": "d3bc35ac-58ff-4c6f-bdd2-86f7bec11220"
      },
      "outputs": [
        {
          "name": "stdout",
          "output_type": "stream",
          "text": [
            "Found 8010 images belonging to 7 classes.\n"
          ]
        }
      ],
      "source": [
        "\n",
        "# how the data will be processed\n",
        "datagen = ImageDataGenerator(\n",
        "    rescale = 1./255,\n",
        "  #  dtype = tf.float32,\n",
        "\n",
        ")\n",
        "\n",
        "\n",
        "datagen = ImageDataGenerator(rescale = 1./255)\n",
        "\n",
        "\n",
        "# directory\n",
        "train_D1 = datagen.flow_from_directory('datset/train/',\n",
        "                                    target_size = (200,200),\n",
        "                                    batch_size = 10,\n",
        "                                #   color_mode = 'grayscale',\n",
        "                                    class_mode = 'categorical')\n",
        "\n"
      ]
    },
    {
      "cell_type": "code",
      "execution_count": null,
      "id": "fd7e5ed3",
      "metadata": {
        "id": "fd7e5ed3",
        "outputId": "d7f24f1d-cb46-4ba9-f6d6-3cab7f86a36a"
      },
      "outputs": [
        {
          "name": "stdout",
          "output_type": "stream",
          "text": [
            "Found 2005 images belonging to 7 classes.\n"
          ]
        }
      ],
      "source": [
        "datagen2 = ImageDataGenerator(rescale = 1./255)\n",
        "\n",
        "\n",
        "test_D1 = datagen2.flow_from_directory('datset/val/',\n",
        "                                    target_size = (200,200),\n",
        "                                    batch_size = 10,\n",
        "                               #   color_mode = 'grayscale',\n",
        "                                    class_mode = 'categorical')"
      ]
    },
    {
      "cell_type": "code",
      "execution_count": null,
      "id": "e27bde16",
      "metadata": {
        "scrolled": false,
        "id": "e27bde16",
        "outputId": "d076fdef-a4dc-4f2f-f67f-1ac83a034c0b"
      },
      "outputs": [
        {
          "data": {
            "text/plain": [
              "array([0, 0, 0, ..., 6, 6, 6])"
            ]
          },
          "execution_count": 71,
          "metadata": {},
          "output_type": "execute_result"
        }
      ],
      "source": [
        "#train_D.class_indices\n",
        "train_D1.classes\n",
        "#train_D.image_shape"
      ]
    },
    {
      "cell_type": "markdown",
      "id": "1bcc7188",
      "metadata": {
        "id": "1bcc7188"
      },
      "source": [
        "Flow from directory did not work / fit my model because of data fromat. new method is\n",
        "implemented below"
      ]
    },
    {
      "cell_type": "markdown",
      "id": "c11ee0bc",
      "metadata": {
        "id": "c11ee0bc"
      },
      "source": [
        "Processing data: with workable method"
      ]
    },
    {
      "cell_type": "code",
      "execution_count": null,
      "id": "ce26afb3",
      "metadata": {
        "id": "ce26afb3"
      },
      "outputs": [],
      "source": [
        "from tensorflow.keras.preprocessing.image import ImageDataGenerator\n",
        "import tensorflow as tf"
      ]
    },
    {
      "cell_type": "code",
      "execution_count": null,
      "id": "5a4cef51",
      "metadata": {
        "id": "5a4cef51"
      },
      "outputs": [],
      "source": [
        "imgH= imgW = 200\n",
        "batch = 10"
      ]
    },
    {
      "cell_type": "code",
      "execution_count": null,
      "id": "7d1365d9",
      "metadata": {
        "id": "7d1365d9",
        "outputId": "71237ae7-b997-466a-e311-9c210300216f"
      },
      "outputs": [
        {
          "name": "stdout",
          "output_type": "stream",
          "text": [
            "Found 8010 files belonging to 7 classes.\n"
          ]
        }
      ],
      "source": [
        "\n",
        "\n",
        "train_D= tf.keras.preprocessing.image_dataset_from_directory(\n",
        "    'datset/train/',\n",
        "    batch_size = batch,\n",
        "    image_size=(imgH,imgW),\n",
        "    color_mode = 'grayscale',\n",
        "    labels= 'inferred',\n",
        "    label_mode = \"int\",\n",
        "    shuffle= True,\n",
        ")\n",
        "\n"
      ]
    },
    {
      "cell_type": "code",
      "execution_count": null,
      "id": "61f02267",
      "metadata": {
        "id": "61f02267",
        "outputId": "ff3f2466-1826-447b-a2e1-01ccd385e695"
      },
      "outputs": [
        {
          "name": "stdout",
          "output_type": "stream",
          "text": [
            "Found 2005 files belonging to 7 classes.\n"
          ]
        }
      ],
      "source": [
        "test_D = tf.keras.preprocessing.image_dataset_from_directory(\n",
        "    'datset/val/',\n",
        "    batch_size = batch,\n",
        "    image_size=(imgH,imgW),\n",
        "    color_mode = 'grayscale',\n",
        "    labels= 'inferred',\n",
        "    label_mode = \"int\",\n",
        "    shuffle= True,\n",
        ")"
      ]
    },
    {
      "cell_type": "code",
      "execution_count": null,
      "id": "83cad039",
      "metadata": {
        "id": "83cad039",
        "outputId": "6f050ab9-a472-461d-8435-755fe628919c"
      },
      "outputs": [
        {
          "name": "stdout",
          "output_type": "stream",
          "text": [
            "['akiec', 'bcc', 'bkl', 'df', 'mel', 'nv', 'vasc']\n"
          ]
        }
      ],
      "source": [
        "classes = train_D.class_names\n",
        "print(classes)"
      ]
    },
    {
      "cell_type": "markdown",
      "id": "c9e1bb3b",
      "metadata": {
        "id": "c9e1bb3b"
      },
      "source": [
        "Preview data"
      ]
    },
    {
      "cell_type": "code",
      "execution_count": null,
      "id": "bec47b3c",
      "metadata": {
        "id": "bec47b3c",
        "outputId": "9c0d8e5d-29cc-481a-fa78-014f420cd963"
      },
      "outputs": [
        {
          "data": {
            "image/png": "[encoded data removed]",
            "text/plain": [
              "<Figure size 720x720 with 10 Axes>"
            ]
          },
          "metadata": {
            "needs_background": "light"
          },
          "output_type": "display_data"
        }
      ],
      "source": [
        "plt.figure(figsize=(10,10))\n",
        "for img, lable in train_D.take(1):\n",
        "    for i in range (10):\n",
        "        ax = plt.subplot(4, 4, i+ 1)\n",
        "        plt.axis(\"off\")\n",
        "        plt.imshow(img[i].numpy().astype(\"int32\"))\n",
        "        plt.title(classes[lable[i]])"
      ]
    },
    {
      "cell_type": "code",
      "execution_count": null,
      "id": "56429261",
      "metadata": {
        "id": "56429261",
        "outputId": "fee8abd5-0b70-4504-cd1e-e74ba8d133f9"
      },
      "outputs": [
        {
          "data": {
            "text/plain": [
              "<BatchDataset element_spec=(TensorSpec(shape=(None, 200, 200, 3), dtype=tf.float32, name=None), TensorSpec(shape=(None,), dtype=tf.int32, name=None))>"
            ]
          },
          "execution_count": 60,
          "metadata": {},
          "output_type": "execute_result"
        }
      ],
      "source": [
        "train_D"
      ]
    },
    {
      "cell_type": "code",
      "execution_count": null,
      "id": "3a541ea7",
      "metadata": {
        "id": "3a541ea7",
        "outputId": "9d32a2c6-4119-4911-d37c-71c93ae47e84"
      },
      "outputs": [
        {
          "data": {
            "text/plain": [
              "<BatchDataset element_spec=(TensorSpec(shape=(None, 200, 200, 1), dtype=tf.float32, name=None), TensorSpec(shape=(None,), dtype=tf.int32, name=None))>"
            ]
          },
          "execution_count": 18,
          "metadata": {},
          "output_type": "execute_result"
        }
      ],
      "source": [
        "test_D"
      ]
    },
    {
      "cell_type": "markdown",
      "id": "6f3031f6",
      "metadata": {
        "id": "6f3031f6"
      },
      "source": [
        "CNN\n",
        "  "
      ]
    },
    {
      "cell_type": "code",
      "execution_count": null,
      "id": "c9d444c3",
      "metadata": {
        "id": "c9d444c3"
      },
      "outputs": [],
      "source": [
        "network_1 = keras.Sequential(\n",
        "    [\n",
        "        keras.layers.Conv2D(50, 4, activation='relu', input_shape = (200, 200,1)),\n",
        "        keras.layers.Conv2D(25, 4, activation='relu'),\n",
        "        keras.layers.Flatten(),\n",
        "        keras.layers.Dense(60, activation='relu'),\n",
        "        keras.layers.Dense(7, activation='softmax')\n",
        "    ]\n",
        ")\n"
      ]
    },
    {
      "cell_type": "code",
      "execution_count": null,
      "id": "c1679469",
      "metadata": {
        "id": "c1679469"
      },
      "outputs": [],
      "source": [
        "network_1.compile(optimizer= 'adam', loss= 'sparse_categorical_crossentropy', metrics=['accuracy'] )\n"
      ]
    },
    {
      "cell_type": "code",
      "execution_count": null,
      "id": "9f834261",
      "metadata": {
        "id": "9f834261",
        "outputId": "5a286d0a-19aa-4a74-c787-b1afbca702e1"
      },
      "outputs": [
        {
          "name": "stdout",
          "output_type": "stream",
          "text": [
            "Epoch 1/10\n",
            "801/801 [==============================] - 530s 661ms/step - loss: 17.1559 - accuracy: 0.6640\n",
            "Epoch 2/10\n",
            "801/801 [==============================] - 514s 641ms/step - loss: 1.1302 - accuracy: 0.6704\n",
            "Epoch 3/10\n",
            "801/801 [==============================] - 487s 607ms/step - loss: 1.1130 - accuracy: 0.6753\n",
            "Epoch 4/10\n",
            "801/801 [==============================] - 484s 604ms/step - loss: 1.0893 - accuracy: 0.6851\n",
            "Epoch 5/10\n",
            "801/801 [==============================] - 484s 604ms/step - loss: 1.0468 - accuracy: 0.7006\n",
            "Epoch 6/10\n",
            "801/801 [==============================] - 483s 603ms/step - loss: 1.0014 - accuracy: 0.7150\n",
            "Epoch 7/10\n",
            "801/801 [==============================] - 483s 603ms/step - loss: 0.9602 - accuracy: 0.7257\n",
            "Epoch 8/10\n",
            "801/801 [==============================] - 483s 603ms/step - loss: 0.9357 - accuracy: 0.7357\n",
            "Epoch 9/10\n",
            "801/801 [==============================] - 484s 604ms/step - loss: 0.9049 - accuracy: 0.7467\n",
            "Epoch 10/10\n",
            "801/801 [==============================] - 483s 603ms/step - loss: 0.8949 - accuracy: 0.7486\n"
          ]
        },
        {
          "data": {
            "text/plain": [
              "<keras.callbacks.History at 0x17f39208910>"
            ]
          },
          "execution_count": 23,
          "metadata": {},
          "output_type": "execute_result"
        }
      ],
      "source": [
        "network_1.fit(train_D, epochs= 10)"
      ]
    },
    {
      "cell_type": "code",
      "execution_count": null,
      "id": "de04650d",
      "metadata": {
        "id": "de04650d",
        "outputId": "5434191c-a653-4139-8c33-4983be665457"
      },
      "outputs": [
        {
          "name": "stdout",
          "output_type": "stream",
          "text": [
            "Epoch 1/20\n",
            "801/801 [==============================] - 484s 604ms/step - loss: 0.8518 - accuracy: 0.7625\n",
            "Epoch 2/20\n",
            "801/801 [==============================] - 484s 604ms/step - loss: 0.8705 - accuracy: 0.7549\n",
            "Epoch 3/20\n",
            "801/801 [==============================] - 483s 603ms/step - loss: 0.9606 - accuracy: 0.7303\n",
            "Epoch 4/20\n",
            "801/801 [==============================] - 483s 603ms/step - loss: 0.8861 - accuracy: 0.7507\n",
            "Epoch 5/20\n",
            "801/801 [==============================] - 483s 603ms/step - loss: 0.8976 - accuracy: 0.7592\n",
            "Epoch 6/20\n",
            "801/801 [==============================] - 483s 602ms/step - loss: 1.0852 - accuracy: 0.6901\n",
            "Epoch 7/20\n",
            "801/801 [==============================] - 483s 603ms/step - loss: 1.0740 - accuracy: 0.6934\n",
            "Epoch 8/20\n",
            "801/801 [==============================] - 482s 602ms/step - loss: 1.0643 - accuracy: 0.7029\n",
            "Epoch 9/20\n",
            "801/801 [==============================] - 483s 603ms/step - loss: 1.0548 - accuracy: 0.7019\n",
            "Epoch 10/20\n",
            "801/801 [==============================] - 484s 604ms/step - loss: 1.0763 - accuracy: 0.6964\n",
            "Epoch 11/20\n",
            "801/801 [==============================] - 483s 603ms/step - loss: 1.0352 - accuracy: 0.7082\n",
            "Epoch 12/20\n",
            "801/801 [==============================] - 482s 602ms/step - loss: 1.0379 - accuracy: 0.7054\n",
            "Epoch 13/20\n",
            "801/801 [==============================] - 483s 603ms/step - loss: 1.0079 - accuracy: 0.7199\n",
            "Epoch 14/20\n",
            "801/801 [==============================] - 487s 608ms/step - loss: 1.0063 - accuracy: 0.7154\n",
            "Epoch 15/20\n",
            "801/801 [==============================] - 500s 624ms/step - loss: 0.9105 - accuracy: 0.7501\n",
            "Epoch 16/20\n",
            "801/801 [==============================] - 495s 618ms/step - loss: 1.0656 - accuracy: 0.6979\n",
            "Epoch 17/20\n",
            "801/801 [==============================] - 494s 617ms/step - loss: 1.0492 - accuracy: 0.7024\n",
            "Epoch 18/20\n",
            "801/801 [==============================] - 495s 618ms/step - loss: 1.0652 - accuracy: 0.7129\n",
            "Epoch 19/20\n",
            "801/801 [==============================] - 491s 613ms/step - loss: 1.0129 - accuracy: 0.7170\n",
            "Epoch 20/20\n",
            "801/801 [==============================] - 509s 635ms/step - loss: 0.9688 - accuracy: 0.7255\n"
          ]
        },
        {
          "data": {
            "text/plain": [
              "<keras.callbacks.History at 0x17f390502b0>"
            ]
          },
          "execution_count": 24,
          "metadata": {},
          "output_type": "execute_result"
        }
      ],
      "source": [
        "network_1.fit(train_D, epochs= 20)"
      ]
    },
    {
      "cell_type": "code",
      "execution_count": null,
      "id": "41c01e0f",
      "metadata": {
        "id": "41c01e0f",
        "outputId": "9fdd8d4b-fe17-4805-e6f3-737c8eb82746"
      },
      "outputs": [
        {
          "name": "stdout",
          "output_type": "stream",
          "text": [
            "Epoch 1/50\n",
            "801/801 [==============================] - 514s 641ms/step - loss: 0.9610 - accuracy: 0.7305\n",
            "Epoch 2/50\n",
            "801/801 [==============================] - 513s 640ms/step - loss: 1.0885 - accuracy: 0.7065\n",
            "Epoch 3/50\n",
            "801/801 [==============================] - 513s 640ms/step - loss: 1.0161 - accuracy: 0.7152\n",
            "Epoch 4/50\n",
            "801/801 [==============================] - 518s 647ms/step - loss: 1.0036 - accuracy: 0.7199\n",
            "Epoch 5/50\n",
            "801/801 [==============================] - 518s 647ms/step - loss: 1.0033 - accuracy: 0.7182\n",
            "Epoch 6/50\n",
            "801/801 [==============================] - 518s 646ms/step - loss: 1.0030 - accuracy: 0.7207\n",
            "Epoch 7/50\n",
            "801/801 [==============================] - 503s 628ms/step - loss: 1.0720 - accuracy: 0.7042\n",
            "Epoch 8/50\n",
            "801/801 [==============================] - 502s 627ms/step - loss: 1.0013 - accuracy: 0.7291\n",
            "Epoch 9/50\n",
            "801/801 [==============================] - 503s 627ms/step - loss: 1.0304 - accuracy: 0.7066\n",
            "Epoch 10/50\n",
            "801/801 [==============================] - 503s 628ms/step - loss: 0.9821 - accuracy: 0.7293\n",
            "Epoch 11/50\n",
            "801/801 [==============================] - 499s 623ms/step - loss: 1.0207 - accuracy: 0.7097\n",
            "Epoch 12/50\n",
            "801/801 [==============================] - 497s 620ms/step - loss: 0.9306 - accuracy: 0.7442\n",
            "Epoch 13/50\n",
            "801/801 [==============================] - 504s 629ms/step - loss: 0.9344 - accuracy: 0.7454\n",
            "Epoch 14/50\n",
            "801/801 [==============================] - 501s 625ms/step - loss: 0.9472 - accuracy: 0.7343\n",
            "Epoch 15/50\n",
            "801/801 [==============================] - 501s 626ms/step - loss: 0.9446 - accuracy: 0.7464\n",
            "Epoch 16/50\n",
            "801/801 [==============================] - 501s 626ms/step - loss: 1.0796 - accuracy: 0.7180\n",
            "Epoch 17/50\n",
            "801/801 [==============================] - 502s 627ms/step - loss: 1.0537 - accuracy: 0.6981\n",
            "Epoch 18/50\n",
            "801/801 [==============================] - 502s 626ms/step - loss: 1.0360 - accuracy: 0.7071\n",
            "Epoch 19/50\n",
            "801/801 [==============================] - 501s 625ms/step - loss: 1.0484 - accuracy: 0.6995\n",
            "Epoch 20/50\n",
            "801/801 [==============================] - 500s 624ms/step - loss: 1.0142 - accuracy: 0.7195\n",
            "Epoch 21/50\n",
            "801/801 [==============================] - 501s 625ms/step - loss: 1.0101 - accuracy: 0.7147\n",
            "Epoch 22/50\n",
            "801/801 [==============================] - 501s 625ms/step - loss: 1.0066 - accuracy: 0.7232\n",
            "Epoch 23/50\n",
            "801/801 [==============================] - 502s 626ms/step - loss: 1.0326 - accuracy: 0.7115\n",
            "Epoch 24/50\n",
            "801/801 [==============================] - 501s 626ms/step - loss: 0.9681 - accuracy: 0.7275\n",
            "Epoch 25/50\n",
            "801/801 [==============================] - 503s 627ms/step - loss: 0.9468 - accuracy: 0.7370\n",
            "Epoch 26/50\n",
            "801/801 [==============================] - 503s 627ms/step - loss: 0.9213 - accuracy: 0.7503\n",
            "Epoch 27/50\n",
            "801/801 [==============================] - 502s 627ms/step - loss: 1.0331 - accuracy: 0.7169\n",
            "Epoch 28/50\n",
            "801/801 [==============================] - 502s 627ms/step - loss: 1.0554 - accuracy: 0.7050\n",
            "Epoch 29/50\n",
            "801/801 [==============================] - 502s 627ms/step - loss: 1.0358 - accuracy: 0.7045\n",
            "Epoch 30/50\n",
            "801/801 [==============================] - 502s 626ms/step - loss: 0.9290 - accuracy: 0.7513\n",
            "Epoch 31/50\n",
            "801/801 [==============================] - 502s 627ms/step - loss: 0.8540 - accuracy: 0.7647\n",
            "Epoch 32/50\n",
            "801/801 [==============================] - 502s 627ms/step - loss: 0.9432 - accuracy: 0.7464\n",
            "Epoch 33/50\n",
            "801/801 [==============================] - 502s 627ms/step - loss: 0.9020 - accuracy: 0.7503\n",
            "Epoch 34/50\n",
            "801/801 [==============================] - 502s 627ms/step - loss: 0.9939 - accuracy: 0.7181\n",
            "Epoch 35/50\n",
            "801/801 [==============================] - 503s 628ms/step - loss: 0.9890 - accuracy: 0.7235\n",
            "Epoch 36/50\n",
            "801/801 [==============================] - 502s 627ms/step - loss: 0.8703 - accuracy: 0.7659\n",
            "Epoch 37/50\n",
            "801/801 [==============================] - 502s 627ms/step - loss: 0.9295 - accuracy: 0.7419\n",
            "Epoch 38/50\n",
            "801/801 [==============================] - 503s 628ms/step - loss: 0.9409 - accuracy: 0.7412\n",
            "Epoch 39/50\n",
            "801/801 [==============================] - 504s 630ms/step - loss: 0.8715 - accuracy: 0.7634\n",
            "Epoch 40/50\n",
            "801/801 [==============================] - 503s 628ms/step - loss: 0.8678 - accuracy: 0.7715\n",
            "Epoch 41/50\n",
            "801/801 [==============================] - 503s 628ms/step - loss: 0.9098 - accuracy: 0.7622\n",
            "Epoch 42/50\n",
            "801/801 [==============================] - 503s 628ms/step - loss: 0.7879 - accuracy: 0.7836\n",
            "Epoch 43/50\n",
            "801/801 [==============================] - 502s 627ms/step - loss: 0.8969 - accuracy: 0.7620\n",
            "Epoch 44/50\n",
            "801/801 [==============================] - 503s 628ms/step - loss: 0.8773 - accuracy: 0.7654\n",
            "Epoch 45/50\n",
            "801/801 [==============================] - 503s 628ms/step - loss: 1.0891 - accuracy: 0.7036\n",
            "Epoch 46/50\n",
            "801/801 [==============================] - 503s 627ms/step - loss: 1.0105 - accuracy: 0.7159\n",
            "Epoch 47/50\n",
            "801/801 [==============================] - 503s 627ms/step - loss: 0.8951 - accuracy: 0.7563\n",
            "Epoch 48/50\n",
            "801/801 [==============================] - 503s 628ms/step - loss: 0.8281 - accuracy: 0.7764\n",
            "Epoch 49/50\n",
            "801/801 [==============================] - 503s 628ms/step - loss: 0.9360 - accuracy: 0.7414\n",
            "Epoch 50/50\n",
            "801/801 [==============================] - 503s 628ms/step - loss: 0.9106 - accuracy: 0.7609\n"
          ]
        },
        {
          "data": {
            "text/plain": [
              "<keras.callbacks.History at 0x17f353c7a90>"
            ]
          },
          "execution_count": 25,
          "metadata": {},
          "output_type": "execute_result"
        }
      ],
      "source": [
        "network_1.fit(train_D, epochs= 50)"
      ]
    },
    {
      "cell_type": "code",
      "execution_count": null,
      "id": "db8a8fd8",
      "metadata": {
        "id": "db8a8fd8",
        "outputId": "10b14c4d-84a8-4ee2-a452-6e916d839aef"
      },
      "outputs": [
        {
          "name": "stdout",
          "output_type": "stream",
          "text": [
            "Epoch 1/50\n",
            "801/801 [==============================] - 504s 629ms/step - loss: 0.9351 - accuracy: 0.7499\n",
            "Epoch 2/50\n",
            "801/801 [==============================] - 504s 629ms/step - loss: 0.9123 - accuracy: 0.7468\n",
            "Epoch 3/50\n",
            "801/801 [==============================] - 503s 628ms/step - loss: 1.0027 - accuracy: 0.7318\n",
            "Epoch 4/50\n",
            "801/801 [==============================] - 503s 627ms/step - loss: 1.0407 - accuracy: 0.7019\n",
            "Epoch 5/50\n",
            "801/801 [==============================] - 503s 627ms/step - loss: 1.0230 - accuracy: 0.7084\n",
            "Epoch 6/50\n",
            "801/801 [==============================] - 503s 628ms/step - loss: 1.0405 - accuracy: 0.7197\n",
            "Epoch 7/50\n",
            "801/801 [==============================] - 503s 627ms/step - loss: 1.0289 - accuracy: 0.7075\n",
            "Epoch 8/50\n",
            "801/801 [==============================] - 503s 628ms/step - loss: 1.0079 - accuracy: 0.7145\n",
            "Epoch 9/50\n",
            "801/801 [==============================] - 503s 628ms/step - loss: 1.0583 - accuracy: 0.7087\n",
            "Epoch 10/50\n",
            "801/801 [==============================] - 503s 628ms/step - loss: 0.9491 - accuracy: 0.7382\n",
            "Epoch 11/50\n",
            "801/801 [==============================] - 503s 628ms/step - loss: 0.9555 - accuracy: 0.7426\n",
            "Epoch 12/50\n",
            "801/801 [==============================] - 503s 628ms/step - loss: 0.9889 - accuracy: 0.7207\n",
            "Epoch 13/50\n",
            "801/801 [==============================] - 503s 628ms/step - loss: 0.9679 - accuracy: 0.7437\n",
            "Epoch 14/50\n",
            "801/801 [==============================] - 504s 629ms/step - loss: 0.9554 - accuracy: 0.7373\n",
            "Epoch 15/50\n",
            "801/801 [==============================] - 502s 627ms/step - loss: 0.8791 - accuracy: 0.7579\n",
            "Epoch 16/50\n",
            "801/801 [==============================] - 503s 628ms/step - loss: 0.9658 - accuracy: 0.7355\n",
            "Epoch 17/50\n",
            "801/801 [==============================] - 503s 628ms/step - loss: 0.8949 - accuracy: 0.7765\n",
            "Epoch 18/50\n",
            "801/801 [==============================] - 504s 629ms/step - loss: 0.8030 - accuracy: 0.7866\n",
            "Epoch 19/50\n",
            "801/801 [==============================] - 503s 628ms/step - loss: 0.8158 - accuracy: 0.7725\n",
            "Epoch 20/50\n",
            "801/801 [==============================] - 503s 628ms/step - loss: 0.7982 - accuracy: 0.7845\n",
            "Epoch 21/50\n",
            "801/801 [==============================] - 503s 628ms/step - loss: 0.8795 - accuracy: 0.7647\n",
            "Epoch 22/50\n",
            "801/801 [==============================] - 504s 629ms/step - loss: 0.8684 - accuracy: 0.7777\n",
            "Epoch 23/50\n",
            "801/801 [==============================] - 503s 628ms/step - loss: 0.8735 - accuracy: 0.7815\n",
            "Epoch 24/50\n",
            "801/801 [==============================] - 503s 628ms/step - loss: 0.9603 - accuracy: 0.7326\n",
            "Epoch 25/50\n",
            "801/801 [==============================] - 505s 630ms/step - loss: 0.8595 - accuracy: 0.7615\n",
            "Epoch 26/50\n",
            "801/801 [==============================] - 505s 630ms/step - loss: 0.8810 - accuracy: 0.7642\n",
            "Epoch 27/50\n",
            "801/801 [==============================] - 502s 627ms/step - loss: 0.9974 - accuracy: 0.7437\n",
            "Epoch 28/50\n",
            "801/801 [==============================] - 503s 628ms/step - loss: 0.9217 - accuracy: 0.7433\n",
            "Epoch 29/50\n",
            "801/801 [==============================] - 503s 628ms/step - loss: 0.8817 - accuracy: 0.7630\n",
            "Epoch 30/50\n",
            "801/801 [==============================] - 503s 628ms/step - loss: 0.9541 - accuracy: 0.7645\n",
            "Epoch 31/50\n",
            "801/801 [==============================] - 503s 628ms/step - loss: 0.9621 - accuracy: 0.7387\n",
            "Epoch 32/50\n",
            "801/801 [==============================] - 505s 630ms/step - loss: 0.8402 - accuracy: 0.7744\n",
            "Epoch 33/50\n",
            "801/801 [==============================] - 504s 629ms/step - loss: 0.8850 - accuracy: 0.7630\n",
            "Epoch 34/50\n",
            "801/801 [==============================] - 503s 627ms/step - loss: 0.8236 - accuracy: 0.7774\n",
            "Epoch 35/50\n",
            "801/801 [==============================] - 503s 628ms/step - loss: 1.0003 - accuracy: 0.7235\n",
            "Epoch 36/50\n",
            "801/801 [==============================] - 503s 628ms/step - loss: 0.9635 - accuracy: 0.7307\n",
            "Epoch 37/50\n",
            "801/801 [==============================] - 504s 629ms/step - loss: 0.9576 - accuracy: 0.7318\n",
            "Epoch 38/50\n",
            "801/801 [==============================] - 503s 628ms/step - loss: 0.9274 - accuracy: 0.7414\n",
            "Epoch 39/50\n",
            "801/801 [==============================] - 503s 628ms/step - loss: 0.9338 - accuracy: 0.7427\n",
            "Epoch 40/50\n",
            "801/801 [==============================] - 503s 628ms/step - loss: 0.8409 - accuracy: 0.7752\n",
            "Epoch 41/50\n",
            "801/801 [==============================] - 503s 628ms/step - loss: 0.9820 - accuracy: 0.7557\n",
            "Epoch 42/50\n",
            "801/801 [==============================] - 503s 628ms/step - loss: 0.9692 - accuracy: 0.7305\n",
            "Epoch 43/50\n",
            "801/801 [==============================] - 502s 627ms/step - loss: 0.8946 - accuracy: 0.7577\n",
            "Epoch 44/50\n",
            "801/801 [==============================] - 503s 628ms/step - loss: 0.9528 - accuracy: 0.7488\n",
            "Epoch 45/50\n",
            "801/801 [==============================] - 503s 627ms/step - loss: 0.9376 - accuracy: 0.7419\n",
            "Epoch 46/50\n",
            "801/801 [==============================] - 504s 629ms/step - loss: 0.7874 - accuracy: 0.7859\n",
            "Epoch 47/50\n",
            "801/801 [==============================] - 503s 628ms/step - loss: 0.7700 - accuracy: 0.7941\n",
            "Epoch 48/50\n",
            "801/801 [==============================] - 503s 628ms/step - loss: 0.7321 - accuracy: 0.8054\n",
            "Epoch 49/50\n",
            "801/801 [==============================] - 503s 628ms/step - loss: 0.9463 - accuracy: 0.7712\n",
            "Epoch 50/50\n",
            "801/801 [==============================] - 503s 628ms/step - loss: 0.8547 - accuracy: 0.7634\n"
          ]
        },
        {
          "data": {
            "text/plain": [
              "<keras.callbacks.History at 0x17f39050fd0>"
            ]
          },
          "execution_count": 26,
          "metadata": {},
          "output_type": "execute_result"
        }
      ],
      "source": [
        "network_1.fit(train_D, epochs= 50)"
      ]
    },
    {
      "cell_type": "code",
      "execution_count": null,
      "id": "197cdb9d",
      "metadata": {
        "id": "197cdb9d",
        "outputId": "ec0a2e40-b6cb-4c78-a4fa-b8fc7a794357"
      },
      "outputs": [
        {
          "name": "stderr",
          "output_type": "stream",
          "text": [
            "WARNING:absl:Found untraced functions such as _jit_compiled_convolution_op, _jit_compiled_convolution_op while saving (showing 2 of 2). These functions will not be directly callable after loading.\n"
          ]
        },
        {
          "name": "stdout",
          "output_type": "stream",
          "text": [
            "INFO:tensorflow:Assets written to: ./models\\assets\n"
          ]
        },
        {
          "name": "stderr",
          "output_type": "stream",
          "text": [
            "INFO:tensorflow:Assets written to: ./models\\assets\n"
          ]
        }
      ],
      "source": [
        "network_1.save('./models')"
      ]
    },
    {
      "cell_type": "code",
      "execution_count": null,
      "id": "273c5d63",
      "metadata": {
        "id": "273c5d63"
      },
      "outputs": [],
      "source": [
        "load_Model = keras.models.load_model('./models')"
      ]
    },
    {
      "cell_type": "code",
      "execution_count": null,
      "id": "82f89dc7",
      "metadata": {
        "id": "82f89dc7",
        "outputId": "27c032a9-5f94-4df5-9b8c-51cc7de69918"
      },
      "outputs": [
        {
          "name": "stdout",
          "output_type": "stream",
          "text": [
            "201/201 [==============================] - 17s 81ms/step - loss: 18.3571 - accuracy: 0.6449\n"
          ]
        },
        {
          "data": {
            "text/plain": [
              "[18.35707664489746, 0.6448878049850464]"
            ]
          },
          "execution_count": 12,
          "metadata": {},
          "output_type": "execute_result"
        }
      ],
      "source": [
        "load_Model.evaluate(test_D)"
      ]
    },
    {
      "cell_type": "markdown",
      "id": "2153a3cc",
      "metadata": {
        "id": "2153a3cc"
      },
      "source": [
        "The above model gave 64 accuracy . 2nd highest."
      ]
    },
    {
      "cell_type": "code",
      "execution_count": null,
      "id": "57d2c199",
      "metadata": {
        "id": "57d2c199",
        "outputId": "dbc4d8d1-2f36-4c35-cec7-d1ceda35bfae"
      },
      "outputs": [
        {
          "name": "stdout",
          "output_type": "stream",
          "text": [
            "Epoch 1/15\n",
            "801/801 [==============================] - 493s 615ms/step - loss: 0.8534 - accuracy: 0.7775\n",
            "Epoch 2/15\n",
            "801/801 [==============================] - 481s 600ms/step - loss: 0.9141 - accuracy: 0.7557\n",
            "Epoch 3/15\n",
            "801/801 [==============================] - 475s 593ms/step - loss: 0.8893 - accuracy: 0.7694\n",
            "Epoch 4/15\n",
            "801/801 [==============================] - 475s 593ms/step - loss: 1.0327 - accuracy: 0.7340\n",
            "Epoch 5/15\n",
            "801/801 [==============================] - 475s 593ms/step - loss: 0.9273 - accuracy: 0.7483\n",
            "Epoch 6/15\n",
            "801/801 [==============================] - 475s 593ms/step - loss: 0.9700 - accuracy: 0.7532\n",
            "Epoch 7/15\n",
            "801/801 [==============================] - 475s 593ms/step - loss: 0.8664 - accuracy: 0.7612\n",
            "Epoch 8/15\n",
            "801/801 [==============================] - 478s 596ms/step - loss: 0.7805 - accuracy: 0.8001\n",
            "Epoch 9/15\n",
            "801/801 [==============================] - 475s 593ms/step - loss: 0.8251 - accuracy: 0.7787\n",
            "Epoch 10/15\n",
            "801/801 [==============================] - 475s 593ms/step - loss: 0.7992 - accuracy: 0.7828\n",
            "Epoch 11/15\n",
            "801/801 [==============================] - 475s 593ms/step - loss: 0.7521 - accuracy: 0.8051\n",
            "Epoch 12/15\n",
            "801/801 [==============================] - 478s 597ms/step - loss: 0.9556 - accuracy: 0.7567\n",
            "Epoch 13/15\n",
            "801/801 [==============================] - 575s 718ms/step - loss: 0.9076 - accuracy: 0.7527\n",
            "Epoch 14/15\n",
            "801/801 [==============================] - 592s 739ms/step - loss: 0.8566 - accuracy: 0.7680\n",
            "Epoch 15/15\n",
            "801/801 [==============================] - 492s 614ms/step - loss: 0.9799 - accuracy: 0.7642\n"
          ]
        },
        {
          "data": {
            "text/plain": [
              "<keras.callbacks.History at 0x1920cf1e820>"
            ]
          },
          "execution_count": 13,
          "metadata": {},
          "output_type": "execute_result"
        }
      ],
      "source": [
        "load_Model.fit(train_D, epochs= 15, shuffle = True)"
      ]
    },
    {
      "cell_type": "code",
      "execution_count": null,
      "id": "a590e906",
      "metadata": {
        "id": "a590e906",
        "outputId": "9118a968-21d1-4953-b904-1d3c2078f30b"
      },
      "outputs": [
        {
          "name": "stdout",
          "output_type": "stream",
          "text": [
            "201/201 [==============================] - 16s 78ms/step - loss: 15.6006 - accuracy: 0.6439\n"
          ]
        },
        {
          "data": {
            "text/plain": [
              "[15.600625038146973, 0.6438902616500854]"
            ]
          },
          "execution_count": 16,
          "metadata": {},
          "output_type": "execute_result"
        }
      ],
      "source": [
        "load_Model.evaluate(test_D)"
      ]
    },
    {
      "cell_type": "code",
      "execution_count": null,
      "id": "4c498ae0",
      "metadata": {
        "id": "4c498ae0",
        "outputId": "2d4828ad-7f31-40ee-f8b3-a6bce52398fe"
      },
      "outputs": [
        {
          "name": "stderr",
          "output_type": "stream",
          "text": [
            "WARNING:absl:Found untraced functions such as _jit_compiled_convolution_op, _jit_compiled_convolution_op while saving (showing 2 of 2). These functions will not be directly callable after loading.\n"
          ]
        },
        {
          "name": "stdout",
          "output_type": "stream",
          "text": [
            "INFO:tensorflow:Assets written to: ./models_2\\assets\n"
          ]
        },
        {
          "name": "stderr",
          "output_type": "stream",
          "text": [
            "INFO:tensorflow:Assets written to: ./models_2\\assets\n"
          ]
        }
      ],
      "source": [
        "load_Model.save('./models_2')"
      ]
    },
    {
      "cell_type": "code",
      "execution_count": null,
      "id": "afa0e250",
      "metadata": {
        "id": "afa0e250",
        "outputId": "356a9ec0-d484-4570-a557-94d53afc767d"
      },
      "outputs": [
        {
          "ename": "NameError",
          "evalue": "name 'load_Model' is not defined",
          "output_type": "error",
          "traceback": [
            "\u001b[1;31m---------------------------------------------------------------------------\u001b[0m",
            "\u001b[1;31mNameError\u001b[0m                                 Traceback (most recent call last)",
            "Input \u001b[1;32mIn [1]\u001b[0m, in \u001b[0;36m<cell line: 1>\u001b[1;34m()\u001b[0m\n\u001b[1;32m----> 1\u001b[0m \u001b[43mload_Model\u001b[49m\u001b[38;5;241m.\u001b[39msave(\u001b[38;5;124m'\u001b[39m\u001b[38;5;124malternate_model_2_.h5\u001b[39m\u001b[38;5;124m'\u001b[39m)\n",
            "\u001b[1;31mNameError\u001b[0m: name 'load_Model' is not defined"
          ]
        }
      ],
      "source": [
        "load_Model.save('alternate_model_2_.h5')"
      ]
    },
    {
      "cell_type": "markdown",
      "id": "adbba8f8",
      "metadata": {
        "id": "adbba8f8"
      },
      "source": [
        "trained again but same accuracy"
      ]
    },
    {
      "cell_type": "markdown",
      "id": "95f2156a",
      "metadata": {
        "id": "95f2156a"
      },
      "source": [
        "CNN 2"
      ]
    },
    {
      "cell_type": "code",
      "execution_count": null,
      "id": "abba0ecf",
      "metadata": {
        "id": "abba0ecf"
      },
      "outputs": [],
      "source": [
        "network_2 = keras.Sequential(\n",
        "    [\n",
        "        keras.layers.Conv2D(50, 4, activation='relu', input_shape = (200, 200,1)),\n",
        "        keras.layers.Conv2D(25, 4, activation='relu'),\n",
        "        keras.layers.MaxPooling2D(),\n",
        "        keras.layers.Conv2D(20, 4, activation='relu'),\n",
        "        keras.layers.MaxPooling2D(),\n",
        "\n",
        "        keras.layers.Conv2D(15, 4, activation='relu'),\n",
        "        keras.layers.MaxPooling2D(),\n",
        "\n",
        "        keras.layers.Flatten(),\n",
        "        keras.layers.Dense(60, activation='relu'),\n",
        "        keras.layers.Dense(7, activation='softmax')\n",
        "    ]\n",
        ")\n"
      ]
    },
    {
      "cell_type": "code",
      "execution_count": null,
      "id": "0eba965b",
      "metadata": {
        "id": "0eba965b"
      },
      "outputs": [],
      "source": [
        "network_2.compile(optimizer= 'adam', loss= 'sparse_categorical_crossentropy', metrics=['accuracy'] )\n"
      ]
    },
    {
      "cell_type": "code",
      "execution_count": null,
      "id": "0eaa266c",
      "metadata": {
        "id": "0eaa266c",
        "outputId": "6aeb9219-432a-4f98-ddad-b4ca2a1f437d"
      },
      "outputs": [
        {
          "name": "stdout",
          "output_type": "stream",
          "text": [
            "Epoch 1/3\n",
            "801/801 [==============================] - 458s 571ms/step - loss: 1.2800 - accuracy: 0.6629\n",
            "Epoch 2/3\n",
            "801/801 [==============================] - 475s 593ms/step - loss: 1.1399 - accuracy: 0.6697\n",
            "Epoch 3/3\n",
            "801/801 [==============================] - 454s 567ms/step - loss: 1.1483 - accuracy: 0.6692\n"
          ]
        },
        {
          "data": {
            "text/plain": [
              "<keras.callbacks.History at 0x1920fba70d0>"
            ]
          },
          "execution_count": 82,
          "metadata": {},
          "output_type": "execute_result"
        }
      ],
      "source": [
        "network_2.fit(train_D, epochs= 3)"
      ]
    },
    {
      "cell_type": "code",
      "execution_count": null,
      "id": "fa50bf1d",
      "metadata": {
        "id": "fa50bf1d",
        "outputId": "89465061-fa4b-404a-e4a0-b8645bdd1b88"
      },
      "outputs": [
        {
          "name": "stdout",
          "output_type": "stream",
          "text": [
            "201/201 [==============================] - 15s 76ms/step - loss: 1.1345 - accuracy: 0.6688\n"
          ]
        },
        {
          "data": {
            "text/plain": [
              "[1.1344985961914062, 0.6688279509544373]"
            ]
          },
          "execution_count": 83,
          "metadata": {},
          "output_type": "execute_result"
        }
      ],
      "source": [
        "network_2.evaluate(test_D)"
      ]
    },
    {
      "cell_type": "code",
      "execution_count": null,
      "id": "793c688a",
      "metadata": {
        "id": "793c688a",
        "outputId": "293d2f1b-3f7b-4207-852d-c23b73d8fc9e"
      },
      "outputs": [
        {
          "name": "stderr",
          "output_type": "stream",
          "text": [
            "WARNING:absl:Found untraced functions such as _jit_compiled_convolution_op, _jit_compiled_convolution_op, _jit_compiled_convolution_op, _jit_compiled_convolution_op while saving (showing 4 of 4). These functions will not be directly callable after loading.\n"
          ]
        },
        {
          "name": "stdout",
          "output_type": "stream",
          "text": [
            "INFO:tensorflow:Assets written to: ./models_4\\assets\n"
          ]
        },
        {
          "name": "stderr",
          "output_type": "stream",
          "text": [
            "INFO:tensorflow:Assets written to: ./models_4\\assets\n"
          ]
        }
      ],
      "source": [
        "network_2.save('./models_4')\n",
        "network_2.save('alternate668_model_4.h5')\n"
      ]
    },
    {
      "cell_type": "code",
      "execution_count": null,
      "id": "2f15ce58",
      "metadata": {
        "id": "2f15ce58",
        "outputId": "f479084a-c779-4fd1-e4e1-cc583e2c705e"
      },
      "outputs": [
        {
          "name": "stdout",
          "output_type": "stream",
          "text": [
            "Epoch 1/5\n",
            "801/801 [==============================] - 454s 567ms/step - loss: 1.2953 - accuracy: 0.6682\n",
            "Epoch 2/5\n",
            "801/801 [==============================] - 495s 617ms/step - loss: 1.1704 - accuracy: 0.6693\n",
            "Epoch 3/5\n",
            "801/801 [==============================] - 450s 562ms/step - loss: 1.1323 - accuracy: 0.6698\n",
            "Epoch 4/5\n",
            "801/801 [==============================] - 459s 573ms/step - loss: 1.1312 - accuracy: 0.6699\n",
            "Epoch 5/5\n",
            "801/801 [==============================] - 434s 542ms/step - loss: 1.1315 - accuracy: 0.6699\n"
          ]
        },
        {
          "data": {
            "text/plain": [
              "<keras.callbacks.History at 0x19210769340>"
            ]
          },
          "execution_count": 85,
          "metadata": {},
          "output_type": "execute_result"
        }
      ],
      "source": [
        "network_2.fit(train_D, epochs= 5, shuffle  = True)"
      ]
    },
    {
      "cell_type": "code",
      "execution_count": null,
      "id": "a44c7974",
      "metadata": {
        "id": "a44c7974",
        "outputId": "a86ef184-b346-4f24-cab3-2ee24e07dfae"
      },
      "outputs": [
        {
          "name": "stdout",
          "output_type": "stream",
          "text": [
            "201/201 [==============================] - 16s 79ms/step - loss: 1.1389 - accuracy: 0.6673\n"
          ]
        },
        {
          "data": {
            "text/plain": [
              "[1.1389230489730835, 0.6673316955566406]"
            ]
          },
          "execution_count": 86,
          "metadata": {},
          "output_type": "execute_result"
        }
      ],
      "source": [
        "network_2.evaluate(test_D)"
      ]
    },
    {
      "cell_type": "code",
      "execution_count": null,
      "id": "9c7d0e87",
      "metadata": {
        "id": "9c7d0e87"
      },
      "outputs": [],
      "source": [
        "\n",
        "# save the model if the above accuracy is above 66\n",
        "load_Model.save('./models_4')\n",
        "load_Model.save('alternate66_model_4.h5')"
      ]
    },
    {
      "cell_type": "markdown",
      "id": "b64088a7",
      "metadata": {
        "id": "b64088a7"
      },
      "source": [
        "the above model gave 66 accuracy the highest.\n",
        "alternate668_model_4.h5"
      ]
    },
    {
      "cell_type": "markdown",
      "id": "d9c45f80",
      "metadata": {
        "id": "d9c45f80"
      },
      "source": [
        "Improving accuracy by manipulating/ augmentation data"
      ]
    },
    {
      "cell_type": "markdown",
      "id": "d11e4ab2",
      "metadata": {
        "id": "d11e4ab2"
      },
      "source": [
        "web interface\n"
      ]
    },
    {
      "cell_type": "code",
      "execution_count": null,
      "id": "69dfe9d0",
      "metadata": {
        "id": "69dfe9d0",
        "outputId": "ba3828f8-ebdf-438b-d735-8988e862c87a"
      },
      "outputs": [
        {
          "name": "stdout",
          "output_type": "stream",
          "text": [
            "Requirement already satisfied: gradio in c:\\programdata\\anaconda3\\lib\\site-packages (3.1.1)Note: you may need to restart the kernel to use updated packages.\n",
            "Requirement already satisfied: pycryptodome in c:\\programdata\\anaconda3\\lib\\site-packages (from gradio) (3.15.0)\n",
            "Requirement already satisfied: matplotlib in c:\\programdata\\anaconda3\\lib\\site-packages (from gradio) (3.5.1)\n",
            "Requirement already satisfied: pillow in c:\\programdata\\anaconda3\\lib\\site-packages (from gradio) (9.0.1)\n",
            "Requirement already satisfied: numpy in c:\\programdata\\anaconda3\\lib\\site-packages (from gradio) (1.21.5)\n",
            "Requirement already satisfied: analytics-python in c:\\programdata\\anaconda3\\lib\\site-packages (from gradio) (1.4.0)\n",
            "Requirement already satisfied: pandas in c:\\programdata\\anaconda3\\lib\\site-packages (from gradio) (1.4.2)\n",
            "Requirement already satisfied: Jinja2 in c:\\programdata\\anaconda3\\lib\\site-packages (from gradio) (2.11.3)\n",
            "Requirement already satisfied: orjson in c:\\programdata\\anaconda3\\lib\\site-packages (from gradio) (3.7.8)\n",
            "Requirement already satisfied: ffmpy in c:\\programdata\\anaconda3\\lib\\site-packages (from gradio) (0.3.0)\n",
            "Requirement already satisfied: pydantic in c:\\programdata\\anaconda3\\lib\\site-packages (from gradio) (1.9.1)\n",
            "Requirement already satisfied: uvicorn in c:\\programdata\\anaconda3\\lib\\site-packages (from gradio) (0.18.2)\n",
            "Requirement already satisfied: pydub in c:\\programdata\\anaconda3\\lib\\site-packages (from gradio) (0.25.1)\n",
            "Requirement already satisfied: fastapi in c:\\programdata\\anaconda3\\lib\\site-packages (from gradio) (0.79.0)\n",
            "Requirement already satisfied: paramiko in c:\\programdata\\anaconda3\\lib\\site-packages (from gradio) (2.8.1)\n",
            "Requirement already satisfied: markdown-it-py[linkify,plugins] in c:\\programdata\\anaconda3\\lib\\site-packages (from gradio) (2.1.0)\n",
            "Requirement already satisfied: python-multipart in c:\\programdata\\anaconda3\\lib\\site-packages (from gradio) (0.0.5)\n",
            "Requirement already satisfied: h11<0.13,>=0.11 in c:\\programdata\\anaconda3\\lib\\site-packages (from gradio) (0.12.0)\n",
            "Requirement already satisfied: fsspec in c:\\programdata\\anaconda3\\lib\\site-packages (from gradio) (2022.2.0)\n",
            "Requirement already satisfied: aiohttp in c:\\programdata\\anaconda3\\lib\\site-packages (from gradio) (3.8.1)\n",
            "Requirement already satisfied: httpx in c:\\programdata\\anaconda3\\lib\\site-packages (from gradio) (0.23.0)\n",
            "Requirement already satisfied: requests in c:\\programdata\\anaconda3\\lib\\site-packages (from gradio) (2.27.1)\n",
            "Requirement already satisfied: frozenlist>=1.1.1 in c:\\programdata\\anaconda3\\lib\\site-packages (from aiohttp->gradio) (1.2.0)\n",
            "Requirement already satisfied: yarl<2.0,>=1.0 in c:\\programdata\\anaconda3\\lib\\site-packages (from aiohttp->gradio) (1.6.3)\n",
            "Requirement already satisfied: async-timeout<5.0,>=4.0.0a3 in c:\\programdata\\anaconda3\\lib\\site-packages (from aiohttp->gradio) (4.0.1)\n",
            "Requirement already satisfied: aiosignal>=1.1.2 in c:\\programdata\\anaconda3\\lib\\site-packages (from aiohttp->gradio) (1.2.0)\n",
            "Requirement already satisfied: charset-normalizer<3.0,>=2.0 in c:\\programdata\\anaconda3\\lib\\site-packages (from aiohttp->gradio) (2.0.4)\n",
            "Requirement already satisfied: multidict<7.0,>=4.5 in c:\\programdata\\anaconda3\\lib\\site-packages (from aiohttp->gradio) (5.1.0)\n",
            "Requirement already satisfied: attrs>=17.3.0 in c:\\programdata\\anaconda3\\lib\\site-packages (from aiohttp->gradio) (21.4.0)\n",
            "Requirement already satisfied: typing-extensions>=3.6.5 in c:\\programdata\\anaconda3\\lib\\site-packages (from async-timeout<5.0,>=4.0.0a3->aiohttp->gradio) (4.1.1)\n",
            "Requirement already satisfied: idna>=2.0 in c:\\programdata\\anaconda3\\lib\\site-packages (from yarl<2.0,>=1.0->aiohttp->gradio) (3.3)\n",
            "Requirement already satisfied: backoff==1.10.0 in c:\\programdata\\anaconda3\\lib\\site-packages (from analytics-python->gradio) (1.10.0)\n",
            "Requirement already satisfied: python-dateutil>2.1 in c:\\programdata\\anaconda3\\lib\\site-packages (from analytics-python->gradio) (2.8.2)\n",
            "Requirement already satisfied: monotonic>=1.5 in c:\\programdata\\anaconda3\\lib\\site-packages (from analytics-python->gradio) (1.6)\n",
            "Requirement already satisfied: six>=1.5 in c:\\programdata\\anaconda3\\lib\\site-packages (from analytics-python->gradio) (1.16.0)\n",
            "\n",
            "Requirement already satisfied: certifi>=2017.4.17 in c:\\programdata\\anaconda3\\lib\\site-packages (from requests->gradio) (2021.10.8)\n",
            "Requirement already satisfied: urllib3<1.27,>=1.21.1 in c:\\programdata\\anaconda3\\lib\\site-packages (from requests->gradio) (1.26.9)\n",
            "Requirement already satisfied: starlette==0.19.1 in c:\\programdata\\anaconda3\\lib\\site-packages (from fastapi->gradio) (0.19.1)\n",
            "Requirement already satisfied: anyio<5,>=3.4.0 in c:\\programdata\\anaconda3\\lib\\site-packages (from starlette==0.19.1->fastapi->gradio) (3.5.0)\n",
            "Requirement already satisfied: sniffio>=1.1 in c:\\programdata\\anaconda3\\lib\\site-packages (from anyio<5,>=3.4.0->starlette==0.19.1->fastapi->gradio) (1.2.0)\n",
            "Requirement already satisfied: rfc3986[idna2008]<2,>=1.3 in c:\\programdata\\anaconda3\\lib\\site-packages (from httpx->gradio) (1.5.0)\n",
            "Requirement already satisfied: httpcore<0.16.0,>=0.15.0 in c:\\programdata\\anaconda3\\lib\\site-packages (from httpx->gradio) (0.15.0)\n",
            "Requirement already satisfied: MarkupSafe>=0.23 in c:\\programdata\\anaconda3\\lib\\site-packages (from Jinja2->gradio) (2.0.1)\n",
            "Requirement already satisfied: mdurl~=0.1 in c:\\programdata\\anaconda3\\lib\\site-packages (from markdown-it-py[linkify,plugins]->gradio) (0.1.1)\n",
            "Requirement already satisfied: linkify-it-py~=1.0 in c:\\programdata\\anaconda3\\lib\\site-packages (from markdown-it-py[linkify,plugins]->gradio) (1.0.3)\n",
            "Requirement already satisfied: mdit-py-plugins in c:\\programdata\\anaconda3\\lib\\site-packages (from markdown-it-py[linkify,plugins]->gradio) (0.3.0)\n",
            "Requirement already satisfied: uc-micro-py in c:\\programdata\\anaconda3\\lib\\site-packages (from linkify-it-py~=1.0->markdown-it-py[linkify,plugins]->gradio) (1.0.1)\n",
            "Requirement already satisfied: cycler>=0.10 in c:\\programdata\\anaconda3\\lib\\site-packages (from matplotlib->gradio) (0.11.0)\n",
            "Requirement already satisfied: fonttools>=4.22.0 in c:\\programdata\\anaconda3\\lib\\site-packages (from matplotlib->gradio) (4.25.0)\n",
            "Requirement already satisfied: packaging>=20.0 in c:\\programdata\\anaconda3\\lib\\site-packages (from matplotlib->gradio) (21.3)\n",
            "Requirement already satisfied: kiwisolver>=1.0.1 in c:\\programdata\\anaconda3\\lib\\site-packages (from matplotlib->gradio) (1.3.2)\n",
            "Requirement already satisfied: pyparsing>=2.2.1 in c:\\programdata\\anaconda3\\lib\\site-packages (from matplotlib->gradio) (3.0.4)\n",
            "Requirement already satisfied: pytz>=2020.1 in c:\\programdata\\anaconda3\\lib\\site-packages (from pandas->gradio) (2021.3)\n",
            "Requirement already satisfied: pynacl>=1.0.1 in c:\\programdata\\anaconda3\\lib\\site-packages (from paramiko->gradio) (1.4.0)\n",
            "Requirement already satisfied: cryptography>=2.5 in c:\\programdata\\anaconda3\\lib\\site-packages (from paramiko->gradio) (3.4.8)\n",
            "Requirement already satisfied: bcrypt>=3.1.3 in c:\\programdata\\anaconda3\\lib\\site-packages (from paramiko->gradio) (3.2.0)\n",
            "Requirement already satisfied: cffi>=1.1 in c:\\programdata\\anaconda3\\lib\\site-packages (from bcrypt>=3.1.3->paramiko->gradio) (1.15.0)\n",
            "Requirement already satisfied: pycparser in c:\\programdata\\anaconda3\\lib\\site-packages (from cffi>=1.1->bcrypt>=3.1.3->paramiko->gradio) (2.21)\n",
            "Requirement already satisfied: click>=7.0 in c:\\programdata\\anaconda3\\lib\\site-packages (from uvicorn->gradio) (8.0.4)\n",
            "Requirement already satisfied: colorama in c:\\programdata\\anaconda3\\lib\\site-packages (from click>=7.0->uvicorn->gradio) (0.4.4)\n"
          ]
        }
      ],
      "source": [
        "pip install gradio"
      ]
    },
    {
      "cell_type": "code",
      "execution_count": null,
      "id": "7104ffab",
      "metadata": {
        "id": "7104ffab"
      },
      "outputs": [],
      "source": [
        "!pip install --quiet gradio"
      ]
    },
    {
      "cell_type": "code",
      "execution_count": null,
      "id": "53160124",
      "metadata": {
        "scrolled": true,
        "id": "53160124"
      },
      "outputs": [],
      "source": [
        "import gradio as gr"
      ]
    },
    {
      "cell_type": "code",
      "execution_count": null,
      "id": "91df8ec8",
      "metadata": {
        "id": "91df8ec8"
      },
      "outputs": [],
      "source": [
        "network = tf.keras.models.load_model('alternate668_model_4.h5')"
      ]
    },
    {
      "cell_type": "code",
      "execution_count": null,
      "id": "2b269b42",
      "metadata": {
        "id": "2b269b42",
        "outputId": "197e91db-33ac-42a6-d84d-42059ed72f3e"
      },
      "outputs": [
        {
          "name": "stderr",
          "output_type": "stream",
          "text": [
            "C:\\ProgramData\\Anaconda3\\lib\\site-packages\\gradio\\inputs.py:256: UserWarning: Usage of gradio.inputs is deprecated, and will not be supported in the future, please import your component from gradio.components\n",
            "  warnings.warn(\n",
            "C:\\ProgramData\\Anaconda3\\lib\\site-packages\\gradio\\deprecation.py:40: UserWarning: `optional` parameter is deprecated, and it has no effect\n",
            "  warnings.warn(value)\n",
            "C:\\ProgramData\\Anaconda3\\lib\\site-packages\\gradio\\outputs.py:196: UserWarning: Usage of gradio.outputs is deprecated, and will not be supported in the future, please import your components from gradio.components\n",
            "  warnings.warn(\n",
            "C:\\ProgramData\\Anaconda3\\lib\\site-packages\\gradio\\deprecation.py:40: UserWarning: The 'type' parameter has been deprecated. Use the Number component instead.\n",
            "  warnings.warn(value)\n"
          ]
        },
        {
          "name": "stdout",
          "output_type": "stream",
          "text": [
            "Running on local URL:  http://127.0.0.1:7875/\n",
            "\n",
            "To create a public link, set `share=True` in `launch()`.\n"
          ]
        },
        {
          "data": {
            "text/html": [
              "<div><iframe src=\"http://127.0.0.1:7875/\" width=\"900\" height=\"500\" allow=\"autoplay; camera; microphone;\" frameborder=\"0\" allowfullscreen></iframe></div>"
            ],
            "text/plain": [
              "<IPython.core.display.HTML object>"
            ]
          },
          "metadata": {},
          "output_type": "display_data"
        },
        {
          "data": {
            "text/plain": [
              "(<gradio.routes.App at 0x24b0fc1e9d0>, 'http://127.0.0.1:7875/', None)"
            ]
          },
          "execution_count": 70,
          "metadata": {},
          "output_type": "execute_result"
        },
        {
          "name": "stdout",
          "output_type": "stream",
          "text": [
            "1/1 [==============================] - 0s 92ms/step\n",
            "1/1 [==============================] - 0s 36ms/step\n",
            "1/1 [==============================] - 0s 35ms/step\n",
            "1/1 [==============================] - 0s 34ms/step\n",
            "1/1 [==============================] - 0s 40ms/step\n"
          ]
        }
      ],
      "source": [
        "# classes =['akiec', 'bcc', 'bkl', 'df', 'mel', 'nv', 'vasc']\n",
        "# classes is defind on top if it doesnt work uncomment the above line\n",
        "def function(img):\n",
        "    image = img.reshape((-1, 200, 200, 1))\n",
        "    predict = network_3.predict(image)[0]\n",
        "    return {classes[i]: float(predict[i]) for i in range(7)}\n",
        "\n",
        "image = gr.inputs.Image(shape= (200,200))\n",
        "label = gr.outputs.Label(num_top_classes=7)\n",
        "\n",
        "frame=gr.Interface(fn = function, inputs = image , outputs = label)\n",
        "frame.launch()"
      ]
    },
    {
      "cell_type": "code",
      "execution_count": null,
      "id": "7777afb5",
      "metadata": {
        "id": "7777afb5"
      },
      "outputs": [],
      "source": []
    },
    {
      "cell_type": "code",
      "execution_count": null,
      "id": "1e8e30c3",
      "metadata": {
        "id": "1e8e30c3"
      },
      "outputs": [],
      "source": []
    },
    {
      "cell_type": "code",
      "execution_count": null,
      "id": "35de7f0d",
      "metadata": {
        "id": "35de7f0d",
        "outputId": "c5b47d90-f22f-4915-ec1c-3df4c29551c4"
      },
      "outputs": [
        {
          "name": "stdout",
          "output_type": "stream",
          "text": [
            "Found 8010 images belonging to 7 classes.\n"
          ]
        }
      ],
      "source": [
        "Rescale_data = ImageDataGenerator(\n",
        "    rescale = 1./255,\n",
        "    rotation_range =30,\n",
        "    horizontal_flip = True,\n",
        "    zoom_range = 0.2\n",
        "\n",
        ")\n",
        "Resacle_train_D = Rescale_data.flow_from_directory(\n",
        "\n",
        "    'datset/train/',\n",
        "    target_size = (200,200),\n",
        "    batch_size = batch\n",
        ")\n",
        "\n",
        "Resacle_train_D = tf.data.Dataset.from_generator(\n",
        "    lambda: Resacle_train_D,\n",
        "    output_types =(tf.float32, tf.float32),\n",
        "    output_shapes =([None, 200,200, 1], [None, 7] )\n",
        "\n",
        ")\n"
      ]
    },
    {
      "cell_type": "code",
      "execution_count": null,
      "id": "4936ea27",
      "metadata": {
        "id": "4936ea27",
        "outputId": "890a38c0-2556-404d-ac18-5d3520bc7507"
      },
      "outputs": [
        {
          "data": {
            "text/plain": [
              "<FlatMapDataset element_spec=(TensorSpec(shape=(None, 200, 200, 1), dtype=tf.float32, name=None), TensorSpec(shape=(None, 7), dtype=tf.float32, name=None))>"
            ]
          },
          "execution_count": 41,
          "metadata": {},
          "output_type": "execute_result"
        }
      ],
      "source": [
        "Resacle_test_D"
      ]
    },
    {
      "cell_type": "markdown",
      "id": "f467ee03",
      "metadata": {
        "id": "f467ee03"
      },
      "source": [
        "CNN type 3"
      ]
    },
    {
      "cell_type": "code",
      "execution_count": null,
      "id": "0f8f69b7",
      "metadata": {
        "id": "0f8f69b7",
        "outputId": "fd22f84c-c7e1-45f8-841b-efb2fd5f3009"
      },
      "outputs": [
        {
          "name": "stdout",
          "output_type": "stream",
          "text": [
            "Found 2198 files belonging to 7 classes.\n",
            "Found 1978 files belonging to 7 classes.\n"
          ]
        }
      ],
      "source": [
        "imgH= imgW = 200\n",
        "batch = 10\n",
        "train_D3 = tf.keras.preprocessing.image_dataset_from_directory(\n",
        "    'dataset2/train/',\n",
        "    batch_size = batch,\n",
        "    image_size=(imgH,imgW),\n",
        "    color_mode = 'grayscale',\n",
        "    labels= 'inferred',\n",
        "    label_mode = \"int\",\n",
        "    shuffle= True,\n",
        ")\n",
        "\n",
        "test_D3 = tf.keras.preprocessing.image_dataset_from_directory(\n",
        "    'dataset2/val/',\n",
        "    batch_size = batch,\n",
        "    image_size=(imgH,imgW),\n",
        "    color_mode = 'grayscale',\n",
        "    labels= 'inferred',\n",
        "    label_mode = \"int\",\n",
        "    shuffle= True,\n",
        ")"
      ]
    },
    {
      "cell_type": "code",
      "execution_count": null,
      "id": "3669bc8b",
      "metadata": {
        "id": "3669bc8b",
        "outputId": "55d8e7fc-a965-45c5-afdf-ac9551fcad28"
      },
      "outputs": [
        {
          "name": "stdout",
          "output_type": "stream",
          "text": [
            "Found 420 files belonging to 7 classes.\n"
          ]
        }
      ],
      "source": [
        "test_D3 = tf.keras.preprocessing.image_dataset_from_directory(\n",
        "    'dataset2/val/',\n",
        "    batch_size = batch,\n",
        "    image_size=(imgH,imgW),\n",
        "    color_mode = 'grayscale',\n",
        "    labels= 'inferred',\n",
        "    label_mode = \"int\",\n",
        "    shuffle= True,\n",
        ")"
      ]
    },
    {
      "cell_type": "code",
      "execution_count": null,
      "id": "b86eabf7",
      "metadata": {
        "id": "b86eabf7"
      },
      "outputs": [],
      "source": []
    },
    {
      "cell_type": "code",
      "execution_count": null,
      "id": "6b230c0d",
      "metadata": {
        "id": "6b230c0d"
      },
      "outputs": [],
      "source": [
        "network_3 = keras.Sequential(\n",
        "    [\n",
        "        keras.layers.Conv2D(50, 4, activation='relu', input_shape = (200, 200,1)),\n",
        "        keras.layers.Conv2D(25, 4, activation='relu'),\n",
        "        keras.layers.MaxPooling2D(),\n",
        "        keras.layers.Conv2D(20, 4, activation='relu'),\n",
        "        keras.layers.MaxPooling2D(),\n",
        "\n",
        "        keras.layers.Conv2D(15, 4, activation='relu'),\n",
        "        keras.layers.MaxPooling2D(),\n",
        "\n",
        "        keras.layers.Flatten(),\n",
        "        keras.layers.Dense(60, activation='relu'),\n",
        "        keras.layers.Dense(7, activation='softmax')\n",
        "    ]\n",
        ")\n"
      ]
    },
    {
      "cell_type": "code",
      "execution_count": null,
      "id": "cb99e1e9",
      "metadata": {
        "id": "cb99e1e9"
      },
      "outputs": [],
      "source": [
        "network_3.compile(optimizer= 'adam', loss= 'sparse_categorical_crossentropy', metrics=['accuracy'] )\n"
      ]
    },
    {
      "cell_type": "code",
      "execution_count": null,
      "id": "01f30341",
      "metadata": {
        "id": "01f30341",
        "outputId": "5ec19647-df22-40e3-cae1-a7403087360b"
      },
      "outputs": [
        {
          "name": "stdout",
          "output_type": "stream",
          "text": [
            "Epoch 1/10\n",
            "220/220 [==============================] - 120s 544ms/step - loss: 1.9587 - accuracy: 0.3867\n",
            "Epoch 2/10\n",
            "220/220 [==============================] - 121s 551ms/step - loss: 1.5708 - accuracy: 0.4063\n",
            "Epoch 3/10\n",
            "220/220 [==============================] - 122s 553ms/step - loss: 1.4889 - accuracy: 0.4122\n",
            "Epoch 4/10\n",
            "220/220 [==============================] - 119s 542ms/step - loss: 1.4570 - accuracy: 0.4204\n",
            "Epoch 5/10\n",
            "220/220 [==============================] - 119s 543ms/step - loss: 1.3443 - accuracy: 0.4768\n",
            "Epoch 6/10\n",
            "220/220 [==============================] - 119s 542ms/step - loss: 1.2546 - accuracy: 0.5096\n",
            "Epoch 7/10\n",
            "220/220 [==============================] - 119s 542ms/step - loss: 1.4147 - accuracy: 0.5478\n",
            "Epoch 8/10\n",
            "220/220 [==============================] - 119s 542ms/step - loss: 1.1900 - accuracy: 0.5428\n",
            "Epoch 9/10\n",
            "220/220 [==============================] - 121s 550ms/step - loss: 1.0460 - accuracy: 0.5987\n",
            "Epoch 10/10\n",
            "220/220 [==============================] - 119s 543ms/step - loss: 0.9346 - accuracy: 0.6429\n"
          ]
        },
        {
          "data": {
            "text/plain": [
              "<keras.callbacks.History at 0x24b10fff430>"
            ]
          },
          "execution_count": 78,
          "metadata": {},
          "output_type": "execute_result"
        }
      ],
      "source": [
        "network_3.fit(train_D3, epochs= 10, shuffle  = True)"
      ]
    },
    {
      "cell_type": "code",
      "execution_count": null,
      "id": "10b1fdef",
      "metadata": {
        "id": "10b1fdef",
        "outputId": "17672241-88e0-4e30-bcc4-99c82d16b34d"
      },
      "outputs": [
        {
          "name": "stdout",
          "output_type": "stream",
          "text": [
            "Epoch 1/10\n",
            "220/220 [==============================] - 125s 566ms/step - loss: 0.8845 - accuracy: 0.6620\n",
            "Epoch 2/10\n",
            "220/220 [==============================] - 122s 556ms/step - loss: 0.7514 - accuracy: 0.7152\n",
            "Epoch 3/10\n",
            "220/220 [==============================] - 129s 585ms/step - loss: 0.7047 - accuracy: 0.7338\n",
            "Epoch 4/10\n",
            "220/220 [==============================] - 123s 559ms/step - loss: 0.6586 - accuracy: 0.7557\n",
            "Epoch 5/10\n",
            "220/220 [==============================] - 121s 551ms/step - loss: 0.5857 - accuracy: 0.7880\n",
            "Epoch 6/10\n",
            "220/220 [==============================] - 122s 553ms/step - loss: 0.4828 - accuracy: 0.8226\n",
            "Epoch 7/10\n",
            "220/220 [==============================] - 125s 568ms/step - loss: 0.4669 - accuracy: 0.8417\n",
            "Epoch 8/10\n",
            "220/220 [==============================] - 125s 566ms/step - loss: 0.4243 - accuracy: 0.8526\n",
            "Epoch 9/10\n",
            "220/220 [==============================] - 124s 563ms/step - loss: 0.4113 - accuracy: 0.8581\n",
            "Epoch 10/10\n",
            "220/220 [==============================] - 122s 553ms/step - loss: 0.3449 - accuracy: 0.8808\n"
          ]
        },
        {
          "data": {
            "text/plain": [
              "<keras.callbacks.History at 0x24b10f8eee0>"
            ]
          },
          "execution_count": 81,
          "metadata": {},
          "output_type": "execute_result"
        }
      ],
      "source": [
        "network_3.fit(train_D3, epochs= 10, shuffle  = True)"
      ]
    },
    {
      "cell_type": "code",
      "execution_count": null,
      "id": "8611aa90",
      "metadata": {
        "id": "8611aa90",
        "outputId": "c7954ad7-67b9-4eac-cadc-d38062bcbd71"
      },
      "outputs": [
        {
          "name": "stdout",
          "output_type": "stream",
          "text": [
            "42/42 [==============================] - 3s 79ms/step - loss: 8.7427 - accuracy: 0.2571\n"
          ]
        },
        {
          "data": {
            "text/plain": [
              "[8.74268627166748, 0.2571428716182709]"
            ]
          },
          "execution_count": 83,
          "metadata": {},
          "output_type": "execute_result"
        }
      ],
      "source": [
        "network_3.evaluate(test_D3)"
      ]
    },
    {
      "cell_type": "code",
      "execution_count": null,
      "id": "e3c03536",
      "metadata": {
        "id": "e3c03536",
        "outputId": "29fb497a-6fac-4441-ebb3-ed39dc7f0386"
      },
      "outputs": [
        {
          "name": "stderr",
          "output_type": "stream",
          "text": [
            "WARNING:absl:Found untraced functions such as _jit_compiled_convolution_op, _jit_compiled_convolution_op, _jit_compiled_convolution_op, _jit_compiled_convolution_op while saving (showing 4 of 4). These functions will not be directly callable after loading.\n"
          ]
        },
        {
          "name": "stdout",
          "output_type": "stream",
          "text": [
            "INFO:tensorflow:Assets written to: ./last_model\\assets\n"
          ]
        },
        {
          "name": "stderr",
          "output_type": "stream",
          "text": [
            "INFO:tensorflow:Assets written to: ./last_model\\assets\n"
          ]
        }
      ],
      "source": [
        "network_3.save('./last_model')\n",
        "network_3.save('last_model.h5')"
      ]
    },
    {
      "cell_type": "code",
      "execution_count": null,
      "id": "df66536e",
      "metadata": {
        "id": "df66536e"
      },
      "outputs": [],
      "source": []
    },
    {
      "cell_type": "code",
      "execution_count": null,
      "id": "22d057bc",
      "metadata": {
        "id": "22d057bc"
      },
      "outputs": [],
      "source": []
    },
    {
      "cell_type": "code",
      "execution_count": null,
      "id": "32f7ffc3",
      "metadata": {
        "id": "32f7ffc3"
      },
      "outputs": [],
      "source": []
    },
    {
      "cell_type": "markdown",
      "id": "b6a9f2a1",
      "metadata": {
        "id": "b6a9f2a1"
      },
      "source": [
        "training original data on model 3"
      ]
    },
    {
      "cell_type": "code",
      "execution_count": null,
      "id": "f2b4696d",
      "metadata": {
        "id": "f2b4696d",
        "outputId": "9154730b-176b-47d0-e02a-b43f32318f26"
      },
      "outputs": [
        {
          "name": "stdout",
          "output_type": "stream",
          "text": [
            "Epoch 1/10\n",
            "801/801 [==============================] - 413s 516ms/step - loss: 1.3678 - accuracy: 0.6608\n",
            "Epoch 2/10\n",
            "801/801 [==============================] - 411s 513ms/step - loss: 1.1473 - accuracy: 0.6693\n",
            "Epoch 3/10\n",
            "801/801 [==============================] - 409s 510ms/step - loss: 1.1323 - accuracy: 0.6699\n",
            "Epoch 4/10\n",
            "801/801 [==============================] - 411s 513ms/step - loss: 1.1736 - accuracy: 0.6695\n",
            "Epoch 5/10\n",
            "801/801 [==============================] - 411s 513ms/step - loss: 1.1322 - accuracy: 0.6695\n",
            "Epoch 6/10\n",
            "801/801 [==============================] - 408s 510ms/step - loss: 1.1315 - accuracy: 0.6695\n",
            "Epoch 7/10\n",
            "801/801 [==============================] - 408s 510ms/step - loss: 1.1319 - accuracy: 0.6697\n",
            "Epoch 8/10\n",
            "801/801 [==============================] - 409s 510ms/step - loss: 1.1318 - accuracy: 0.6698\n",
            "Epoch 9/10\n",
            "801/801 [==============================] - 408s 509ms/step - loss: 1.1319 - accuracy: 0.6697\n",
            "Epoch 10/10\n",
            "801/801 [==============================] - 409s 510ms/step - loss: 1.1317 - accuracy: 0.6698\n"
          ]
        },
        {
          "data": {
            "text/plain": [
              "<keras.callbacks.History at 0x24b1008ffd0>"
            ]
          },
          "execution_count": 49,
          "metadata": {},
          "output_type": "execute_result"
        }
      ],
      "source": [
        "network_3.fit(train_D, epochs= 10, shuffle  = True)"
      ]
    },
    {
      "cell_type": "code",
      "execution_count": null,
      "id": "77cbd50d",
      "metadata": {
        "id": "77cbd50d",
        "outputId": "65af75ff-e454-4e09-a26e-9a950190fbba"
      },
      "outputs": [
        {
          "name": "stderr",
          "output_type": "stream",
          "text": [
            "WARNING:absl:Found untraced functions such as _jit_compiled_convolution_op, _jit_compiled_convolution_op, _jit_compiled_convolution_op, _jit_compiled_convolution_op while saving (showing 4 of 4). These functions will not be directly callable after loading.\n"
          ]
        },
        {
          "name": "stdout",
          "output_type": "stream",
          "text": [
            "INFO:tensorflow:Assets written to: ./models3_1\\assets\n"
          ]
        },
        {
          "name": "stderr",
          "output_type": "stream",
          "text": [
            "INFO:tensorflow:Assets written to: ./models3_1\\assets\n"
          ]
        }
      ],
      "source": [
        "network_3.save('./models3_1')\n",
        "network_3.save('alternatemodels3_1.h5')"
      ]
    },
    {
      "cell_type": "code",
      "execution_count": null,
      "id": "a072ee20",
      "metadata": {
        "id": "a072ee20",
        "outputId": "97446217-4647-4aa0-c538-65b03a417e5a"
      },
      "outputs": [
        {
          "name": "stdout",
          "output_type": "stream",
          "text": [
            "Epoch 1/20\n",
            "801/801 [==============================] - 409s 510ms/step - loss: 1.1402 - accuracy: 0.6694\n",
            "Epoch 2/20\n",
            "801/801 [==============================] - 408s 509ms/step - loss: 1.1322 - accuracy: 0.6697\n",
            "Epoch 3/20\n",
            "801/801 [==============================] - 444s 555ms/step - loss: 1.1322 - accuracy: 0.6698\n",
            "Epoch 4/20\n",
            "801/801 [==============================] - 452s 564ms/step - loss: 1.1320 - accuracy: 0.6698\n",
            "Epoch 5/20\n",
            "801/801 [==============================] - 446s 557ms/step - loss: 1.1319 - accuracy: 0.6698\n",
            "Epoch 6/20\n",
            "801/801 [==============================] - 448s 559ms/step - loss: 1.1342 - accuracy: 0.6697\n",
            "Epoch 7/20\n",
            "801/801 [==============================] - 449s 560ms/step - loss: 1.1319 - accuracy: 0.6698\n",
            "Epoch 8/20\n",
            "801/801 [==============================] - 445s 556ms/step - loss: 1.1317 - accuracy: 0.6698\n",
            "Epoch 9/20\n",
            "801/801 [==============================] - 452s 565ms/step - loss: 1.1320 - accuracy: 0.6698\n",
            "Epoch 10/20\n",
            "801/801 [==============================] - 453s 565ms/step - loss: 1.1320 - accuracy: 0.6698\n",
            "Epoch 11/20\n",
            "801/801 [==============================] - 453s 565ms/step - loss: 1.1316 - accuracy: 0.6698\n",
            "Epoch 12/20\n",
            "801/801 [==============================] - 452s 564ms/step - loss: 1.1318 - accuracy: 0.6698\n",
            "Epoch 13/20\n",
            "801/801 [==============================] - 450s 562ms/step - loss: 1.1321 - accuracy: 0.6698\n",
            "Epoch 14/20\n",
            "801/801 [==============================] - 453s 565ms/step - loss: 1.1319 - accuracy: 0.6698\n",
            "Epoch 15/20\n",
            "801/801 [==============================] - 454s 567ms/step - loss: 1.1317 - accuracy: 0.6698\n",
            "Epoch 16/20\n",
            "801/801 [==============================] - 436s 545ms/step - loss: 1.1318 - accuracy: 0.6698\n",
            "Epoch 17/20\n",
            "801/801 [==============================] - 434s 542ms/step - loss: 1.1318 - accuracy: 0.6698\n",
            "Epoch 18/20\n",
            "801/801 [==============================] - 435s 543ms/step - loss: 1.1319 - accuracy: 0.6698\n",
            "Epoch 19/20\n",
            "801/801 [==============================] - 436s 544ms/step - loss: 1.1318 - accuracy: 0.6698\n",
            "Epoch 20/20\n",
            "801/801 [==============================] - 436s 544ms/step - loss: 1.1315 - accuracy: 0.6698\n"
          ]
        },
        {
          "data": {
            "text/plain": [
              "<keras.callbacks.History at 0x24b1051d700>"
            ]
          },
          "execution_count": 51,
          "metadata": {},
          "output_type": "execute_result"
        }
      ],
      "source": [
        "network_3.fit(train_D, epochs= 20)"
      ]
    },
    {
      "cell_type": "code",
      "execution_count": null,
      "id": "8d21bd13",
      "metadata": {
        "id": "8d21bd13",
        "outputId": "f42da89f-2b04-4a41-c0e3-02d1cdf0a075"
      },
      "outputs": [
        {
          "name": "stderr",
          "output_type": "stream",
          "text": [
            "WARNING:absl:Found untraced functions such as _jit_compiled_convolution_op, _jit_compiled_convolution_op, _jit_compiled_convolution_op, _jit_compiled_convolution_op while saving (showing 4 of 4). These functions will not be directly callable after loading.\n"
          ]
        },
        {
          "name": "stdout",
          "output_type": "stream",
          "text": [
            "INFO:tensorflow:Assets written to: ./models3_2\\assets\n"
          ]
        },
        {
          "name": "stderr",
          "output_type": "stream",
          "text": [
            "INFO:tensorflow:Assets written to: ./models3_2\\assets\n"
          ]
        }
      ],
      "source": [
        "network_3.save('./models3_2')\n",
        "network_3.save('alternatemodels3_2.h5')"
      ]
    },
    {
      "cell_type": "code",
      "execution_count": null,
      "id": "152f76cb",
      "metadata": {
        "id": "152f76cb",
        "outputId": "fb77bdd2-3124-4b3a-e851-1855deb054aa"
      },
      "outputs": [
        {
          "name": "stdout",
          "output_type": "stream",
          "text": [
            "Epoch 1/25\n",
            "801/801 [==============================] - 436s 544ms/step - loss: 1.1317 - accuracy: 0.6698\n",
            "Epoch 2/25\n",
            "801/801 [==============================] - 435s 543ms/step - loss: 1.1317 - accuracy: 0.6698\n",
            "Epoch 3/25\n",
            "801/801 [==============================] - 435s 544ms/step - loss: 1.1317 - accuracy: 0.6698\n",
            "Epoch 4/25\n",
            "801/801 [==============================] - 441s 551ms/step - loss: 1.1318 - accuracy: 0.6698\n",
            "Epoch 5/25\n",
            "801/801 [==============================] - 435s 543ms/step - loss: 1.1317 - accuracy: 0.6698\n",
            "Epoch 6/25\n",
            "801/801 [==============================] - 435s 543ms/step - loss: 1.1316 - accuracy: 0.6698\n",
            "Epoch 7/25\n",
            "801/801 [==============================] - 435s 543ms/step - loss: 1.1318 - accuracy: 0.6698\n",
            "Epoch 8/25\n",
            "801/801 [==============================] - 434s 541ms/step - loss: 1.1319 - accuracy: 0.6698\n",
            "Epoch 9/25\n",
            "801/801 [==============================] - 432s 540ms/step - loss: 1.1318 - accuracy: 0.6698\n",
            "Epoch 10/25\n",
            "801/801 [==============================] - 433s 541ms/step - loss: 1.1317 - accuracy: 0.6698\n",
            "Epoch 11/25\n",
            "801/801 [==============================] - 434s 541ms/step - loss: 1.1317 - accuracy: 0.6698\n",
            "Epoch 12/25\n",
            "801/801 [==============================] - 435s 543ms/step - loss: 1.1318 - accuracy: 0.6698\n",
            "Epoch 13/25\n",
            "801/801 [==============================] - 435s 543ms/step - loss: 1.1316 - accuracy: 0.6698\n",
            "Epoch 14/25\n",
            "801/801 [==============================] - 435s 543ms/step - loss: 1.1316 - accuracy: 0.6698\n",
            "Epoch 15/25\n",
            "801/801 [==============================] - 435s 544ms/step - loss: 1.1316 - accuracy: 0.6698\n",
            "Epoch 16/25\n",
            "801/801 [==============================] - 436s 544ms/step - loss: 1.1316 - accuracy: 0.6698\n",
            "Epoch 17/25\n",
            "801/801 [==============================] - 435s 543ms/step - loss: 1.1315 - accuracy: 0.6698\n",
            "Epoch 18/25\n",
            "801/801 [==============================] - 435s 542ms/step - loss: 1.1316 - accuracy: 0.6698\n",
            "Epoch 19/25\n",
            "801/801 [==============================] - 435s 543ms/step - loss: 1.1316 - accuracy: 0.6698\n",
            "Epoch 20/25\n",
            "801/801 [==============================] - 435s 543ms/step - loss: 1.1317 - accuracy: 0.6698\n",
            "Epoch 21/25\n",
            "801/801 [==============================] - 435s 543ms/step - loss: 1.1317 - accuracy: 0.6698\n",
            "Epoch 22/25\n",
            "801/801 [==============================] - 435s 543ms/step - loss: 1.1318 - accuracy: 0.6698\n",
            "Epoch 23/25\n",
            "801/801 [==============================] - 437s 545ms/step - loss: 1.1316 - accuracy: 0.6698\n",
            "Epoch 24/25\n",
            "801/801 [==============================] - 434s 541ms/step - loss: 1.1316 - accuracy: 0.6698\n",
            "Epoch 25/25\n",
            "801/801 [==============================] - 434s 542ms/step - loss: 1.1316 - accuracy: 0.6698\n"
          ]
        },
        {
          "data": {
            "text/plain": [
              "<keras.callbacks.History at 0x24b0dc85ac0>"
            ]
          },
          "execution_count": 53,
          "metadata": {},
          "output_type": "execute_result"
        }
      ],
      "source": [
        "network_3.fit(train_D, epochs= 25)"
      ]
    },
    {
      "cell_type": "code",
      "execution_count": null,
      "id": "468f4b67",
      "metadata": {
        "id": "468f4b67",
        "outputId": "cd69562a-4a40-40ef-e94b-d7fdb27ebd54"
      },
      "outputs": [
        {
          "name": "stderr",
          "output_type": "stream",
          "text": [
            "WARNING:absl:Found untraced functions such as _jit_compiled_convolution_op, _jit_compiled_convolution_op, _jit_compiled_convolution_op, _jit_compiled_convolution_op while saving (showing 4 of 4). These functions will not be directly callable after loading.\n"
          ]
        },
        {
          "name": "stdout",
          "output_type": "stream",
          "text": [
            "INFO:tensorflow:Assets written to: ./models3_3\\assets\n"
          ]
        },
        {
          "name": "stderr",
          "output_type": "stream",
          "text": [
            "INFO:tensorflow:Assets written to: ./models3_3\\assets\n"
          ]
        }
      ],
      "source": [
        "network_3.save('./models3_3')\n",
        "network_3.save('alternatemodels3_3.h5')"
      ]
    },
    {
      "cell_type": "code",
      "execution_count": null,
      "id": "d29feaac",
      "metadata": {
        "id": "d29feaac",
        "outputId": "ca0ade8b-cfad-484b-cc36-0bb7701de830"
      },
      "outputs": [
        {
          "name": "stdout",
          "output_type": "stream",
          "text": [
            "Epoch 1/30\n",
            "801/801 [==============================] - 433s 541ms/step - loss: 1.1316 - accuracy: 0.6698\n",
            "Epoch 2/30\n",
            "801/801 [==============================] - 434s 542ms/step - loss: 1.1316 - accuracy: 0.6698\n",
            "Epoch 3/30\n",
            "801/801 [==============================] - 434s 542ms/step - loss: 1.1315 - accuracy: 0.6698\n",
            "Epoch 4/30\n",
            "801/801 [==============================] - 434s 541ms/step - loss: 1.1316 - accuracy: 0.6698\n",
            "Epoch 5/30\n",
            "801/801 [==============================] - 434s 542ms/step - loss: 1.1314 - accuracy: 0.6698\n",
            "Epoch 6/30\n",
            "801/801 [==============================] - 434s 542ms/step - loss: 1.1315 - accuracy: 0.6698\n",
            "Epoch 7/30\n",
            "801/801 [==============================] - 434s 542ms/step - loss: 1.1316 - accuracy: 0.6698\n",
            "Epoch 8/30\n",
            "801/801 [==============================] - 434s 542ms/step - loss: 1.1315 - accuracy: 0.6698\n",
            "Epoch 9/30\n",
            "801/801 [==============================] - 434s 542ms/step - loss: 1.1315 - accuracy: 0.6698\n",
            "Epoch 10/30\n",
            "801/801 [==============================] - 434s 542ms/step - loss: 1.1315 - accuracy: 0.6698\n",
            "Epoch 11/30\n",
            "801/801 [==============================] - 435s 543ms/step - loss: 1.1315 - accuracy: 0.6698\n",
            "Epoch 12/30\n",
            "801/801 [==============================] - 434s 542ms/step - loss: 1.1315 - accuracy: 0.6698\n",
            "Epoch 13/30\n",
            "801/801 [==============================] - 435s 543ms/step - loss: 1.1315 - accuracy: 0.6698\n",
            "Epoch 14/30\n",
            "801/801 [==============================] - 435s 543ms/step - loss: 1.1315 - accuracy: 0.6698\n",
            "Epoch 15/30\n",
            "801/801 [==============================] - 436s 544ms/step - loss: 1.1315 - accuracy: 0.6698\n",
            "Epoch 16/30\n",
            "801/801 [==============================] - 435s 543ms/step - loss: 1.1315 - accuracy: 0.6698\n",
            "Epoch 17/30\n",
            "801/801 [==============================] - 435s 542ms/step - loss: 1.1314 - accuracy: 0.6698\n",
            "Epoch 18/30\n",
            "801/801 [==============================] - 435s 543ms/step - loss: 1.1315 - accuracy: 0.6698\n",
            "Epoch 19/30\n",
            "801/801 [==============================] - 435s 543ms/step - loss: 1.1315 - accuracy: 0.6698\n",
            "Epoch 20/30\n",
            "801/801 [==============================] - 434s 542ms/step - loss: 1.1315 - accuracy: 0.6698\n",
            "Epoch 21/30\n",
            "801/801 [==============================] - 435s 543ms/step - loss: 1.1314 - accuracy: 0.6698\n",
            "Epoch 22/30\n",
            "801/801 [==============================] - 435s 543ms/step - loss: 1.1316 - accuracy: 0.6698\n",
            "Epoch 23/30\n",
            "801/801 [==============================] - 435s 544ms/step - loss: 1.1315 - accuracy: 0.6698\n",
            "Epoch 24/30\n",
            "801/801 [==============================] - 435s 543ms/step - loss: 1.1316 - accuracy: 0.6698\n",
            "Epoch 25/30\n",
            "801/801 [==============================] - 435s 543ms/step - loss: 1.1314 - accuracy: 0.6698\n",
            "Epoch 26/30\n",
            "801/801 [==============================] - 435s 543ms/step - loss: 1.1315 - accuracy: 0.6698\n",
            "Epoch 27/30\n",
            "801/801 [==============================] - 436s 544ms/step - loss: 1.1315 - accuracy: 0.6698\n",
            "Epoch 28/30\n",
            "801/801 [==============================] - 435s 543ms/step - loss: 1.1315 - accuracy: 0.6698\n",
            "Epoch 29/30\n",
            "801/801 [==============================] - 435s 543ms/step - loss: 1.1316 - accuracy: 0.6698\n",
            "Epoch 30/30\n",
            "801/801 [==============================] - 435s 543ms/step - loss: 1.1316 - accuracy: 0.6698\n"
          ]
        },
        {
          "data": {
            "text/plain": [
              "<keras.callbacks.History at 0x24b0fcef7c0>"
            ]
          },
          "execution_count": 55,
          "metadata": {},
          "output_type": "execute_result"
        }
      ],
      "source": [
        "network_3.fit(train_D, epochs= 30)"
      ]
    },
    {
      "cell_type": "code",
      "execution_count": null,
      "id": "000b57df",
      "metadata": {
        "id": "000b57df",
        "outputId": "74fb506a-8288-4742-a098-78423159b225"
      },
      "outputs": [
        {
          "name": "stderr",
          "output_type": "stream",
          "text": [
            "WARNING:absl:Found untraced functions such as _jit_compiled_convolution_op, _jit_compiled_convolution_op, _jit_compiled_convolution_op, _jit_compiled_convolution_op while saving (showing 4 of 4). These functions will not be directly callable after loading.\n"
          ]
        },
        {
          "name": "stdout",
          "output_type": "stream",
          "text": [
            "INFO:tensorflow:Assets written to: ./models3_4\\assets\n"
          ]
        },
        {
          "name": "stderr",
          "output_type": "stream",
          "text": [
            "INFO:tensorflow:Assets written to: ./models3_4\\assets\n"
          ]
        }
      ],
      "source": [
        "network_3.save('./models3_4')\n",
        "network_3.save('alternatemodels3_4.h5')"
      ]
    },
    {
      "cell_type": "code",
      "execution_count": null,
      "id": "5106ad28",
      "metadata": {
        "id": "5106ad28",
        "outputId": "041551a8-0e28-4155-c241-17fcec9f29da"
      },
      "outputs": [
        {
          "name": "stdout",
          "output_type": "stream",
          "text": [
            "201/201 [==============================] - 16s 77ms/step - loss: 1.1344 - accuracy: 0.6688\n"
          ]
        },
        {
          "data": {
            "text/plain": [
              "[1.134384274482727, 0.6688279509544373]"
            ]
          },
          "execution_count": 69,
          "metadata": {},
          "output_type": "execute_result"
        }
      ],
      "source": [
        "network_3=tf.keras.models.load_model('alternatemodels3_4.h5')\n",
        "network_3.evaluate(test_D)"
      ]
    },
    {
      "cell_type": "markdown",
      "id": "bdaa6c51",
      "metadata": {
        "id": "bdaa6c51"
      },
      "source": [
        "still same accuracy"
      ]
    },
    {
      "cell_type": "code",
      "execution_count": null,
      "id": "c20705c7",
      "metadata": {
        "id": "c20705c7"
      },
      "outputs": [],
      "source": []
    },
    {
      "cell_type": "markdown",
      "id": "1ee7c9e8",
      "metadata": {
        "id": "1ee7c9e8"
      },
      "source": [
        "\n",
        "    \n",
        "        demo"
      ]
    },
    {
      "cell_type": "code",
      "execution_count": null,
      "id": "e25f9f71",
      "metadata": {
        "id": "e25f9f71"
      },
      "outputs": [],
      "source": [
        "load_network_3 =tf.keras.models.load_model('alternatemodels3_4.h5')"
      ]
    },
    {
      "cell_type": "code",
      "execution_count": null,
      "id": "a2cc6999",
      "metadata": {
        "id": "a2cc6999"
      },
      "outputs": [],
      "source": [
        "load_Last_network= tf.keras.models.load_model('last_model.h5')"
      ]
    },
    {
      "cell_type": "code",
      "execution_count": null,
      "id": "41e7426d",
      "metadata": {
        "id": "41e7426d",
        "outputId": "329ff9ca-72d0-4022-d72d-e11097cace0d"
      },
      "outputs": [
        {
          "name": "stderr",
          "output_type": "stream",
          "text": [
            "C:\\ProgramData\\Anaconda3\\lib\\site-packages\\gradio\\inputs.py:256: UserWarning: Usage of gradio.inputs is deprecated, and will not be supported in the future, please import your component from gradio.components\n",
            "  warnings.warn(\n",
            "C:\\ProgramData\\Anaconda3\\lib\\site-packages\\gradio\\deprecation.py:40: UserWarning: `optional` parameter is deprecated, and it has no effect\n",
            "  warnings.warn(value)\n",
            "C:\\ProgramData\\Anaconda3\\lib\\site-packages\\gradio\\outputs.py:196: UserWarning: Usage of gradio.outputs is deprecated, and will not be supported in the future, please import your components from gradio.components\n",
            "  warnings.warn(\n",
            "C:\\ProgramData\\Anaconda3\\lib\\site-packages\\gradio\\deprecation.py:40: UserWarning: The 'type' parameter has been deprecated. Use the Number component instead.\n",
            "  warnings.warn(value)\n"
          ]
        },
        {
          "name": "stdout",
          "output_type": "stream",
          "text": [
            "Running on local URL:  http://127.0.0.1:7877/\n",
            "Running on public URL: https://57665.gradio.app\n",
            "\n",
            "This share link expires in 72 hours. For free permanent hosting, check out Spaces: https://huggingface.co/spaces\n"
          ]
        },
        {
          "data": {
            "text/html": [
              "<div><iframe src=\"https://57665.gradio.app\" width=\"900\" height=\"500\" allow=\"autoplay; camera; microphone;\" frameborder=\"0\" allowfullscreen></iframe></div>"
            ],
            "text/plain": [
              "<IPython.core.display.HTML object>"
            ]
          },
          "metadata": {},
          "output_type": "display_data"
        },
        {
          "data": {
            "text/plain": [
              "(<gradio.routes.App at 0x24b1756e070>,\n",
              " 'http://127.0.0.1:7877/',\n",
              " 'https://57665.gradio.app')"
            ]
          },
          "execution_count": 87,
          "metadata": {},
          "output_type": "execute_result"
        },
        {
          "name": "stdout",
          "output_type": "stream",
          "text": [
            "1/1 [==============================] - 0s 38ms/step\n",
            "1/1 [==============================] - 0s 33ms/step\n",
            "1/1 [==============================] - 0s 34ms/step\n",
            "1/1 [==============================] - 0s 33ms/step\n",
            "1/1 [==============================] - 0s 34ms/step\n",
            "1/1 [==============================] - 0s 34ms/step\n"
          ]
        }
      ],
      "source": [
        "# classes =['akiec', 'bcc', 'bkl', 'df', 'mel', 'nv', 'vasc']\n",
        "# classes is defind on top if it doesnt work uncomment the above line\n",
        "def function(img):\n",
        "    image = img.reshape((-1, 200, 200, 1))\n",
        "    predict = load_Last_network.predict(image)[0]\n",
        "    return {classes[i]: float(predict[i]) for i in range(7)}\n",
        "\n",
        "image = gr.inputs.Image(shape= (200,200))\n",
        "label = gr.outputs.Label(num_top_classes=7)\n",
        "\n",
        "frame=gr.Interface(fn = function, inputs = image , outputs = label)\n",
        "frame.launch(share=True)"
      ]
    },
    {
      "cell_type": "markdown",
      "id": "4716f4e9",
      "metadata": {
        "id": "4716f4e9"
      },
      "source": [
        "Live capture"
      ]
    },
    {
      "cell_type": "code",
      "execution_count": null,
      "id": "70cb9966",
      "metadata": {
        "id": "70cb9966",
        "outputId": "c0f3df00-c5b9-47e4-fa7a-24dc88c634be"
      },
      "outputs": [
        {
          "data": {
            "text/plain": [
              "'4.6.0'"
            ]
          },
          "execution_count": 6,
          "metadata": {},
          "output_type": "execute_result"
        }
      ],
      "source": [
        "import cv2\n",
        "cv2.__version__"
      ]
    },
    {
      "cell_type": "code",
      "execution_count": null,
      "id": "d30affd4",
      "metadata": {
        "id": "d30affd4"
      },
      "outputs": [],
      "source": [
        "## LIVE TESTING DATA\n",
        "names = classes\n",
        "cap= cv2.VideoCapture(0)\n",
        "while True:\n",
        "  #read\n",
        "  #frame= the pic\n",
        "  ret, frame = cap.read()\n",
        "  frame = cv2.flip(frame, 1)\n",
        "\n",
        "\n",
        "\n",
        "\n",
        "# where to get the live image\n",
        "  cv2.rectangle(frame, (10,10),(300,300), (255,0,0),1)\n",
        "  frame= cv2.resize(frame,(200,200))\n",
        "  frame= cv2.cvtColor(frame, cv2.COLOR_BGR2GRAY)\n",
        "\n",
        "  cv2.imshow('camera', frame)\n",
        "\n",
        "\n",
        "\n",
        "  prediction= network_1.predict(frame.reshape(1,200,200,1))\n",
        "  show= names[prediction.argmax()]\n",
        "\n",
        "  cv2.putText(frame, show,(10,120),cv2.FONT_HERSHEY_PLAIN,2, (0,255,255),1)\n",
        "  cv2.imshow(\"frame\", frame)\n",
        "  if cv2.waitKey(1) == ord('q'):\n",
        "    break\n",
        "\n",
        "cap.release()\n",
        "cv2.destroyAllWindows()"
      ]
    }
  ],
  "metadata": {
    "kernelspec": {
      "display_name": "Python 3 (ipykernel)",
      "language": "python",
      "name": "python3"
    },
    "language_info": {
      "codemirror_mode": {
        "name": "ipython",
        "version": 3
      },
      "file_extension": ".py",
      "mimetype": "text/x-python",
      "name": "python",
      "nbconvert_exporter": "python",
      "pygments_lexer": "ipython3",
      "version": "3.9.12"
    },
    "colab": {
      "provenance": []
    }
  },
  "nbformat": 4,
  "nbformat_minor": 5
}